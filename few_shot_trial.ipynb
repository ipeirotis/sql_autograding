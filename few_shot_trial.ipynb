{
  "cells": [
    {
      "cell_type": "markdown",
      "metadata": {
        "id": "view-in-github",
        "colab_type": "text"
      },
      "source": [
        "<a href=\"https://colab.research.google.com/github/ipeirotis/sql_autograding/blob/main/few_shot_trial.ipynb\" target=\"_parent\"><img src=\"https://colab.research.google.com/assets/colab-badge.svg\" alt=\"Open In Colab\"/></a>"
      ]
    },
    {
      "cell_type": "code",
      "execution_count": 1,
      "metadata": {
        "id": "DnUJuLCwe4zM",
        "outputId": "1d1152d4-5a8f-4d06-85e0-ca296679fb0f",
        "colab": {
          "base_uri": "https://localhost:8080/"
        }
      },
      "outputs": [
        {
          "output_type": "stream",
          "name": "stdout",
          "text": [
            "\u001b[2K     \u001b[90m━━━━━━━━━━━━━━━━━━━━━━━━━━━━━━━━━━━━━━━━\u001b[0m \u001b[32m73.6/73.6 kB\u001b[0m \u001b[31m2.5 MB/s\u001b[0m eta \u001b[36m0:00:00\u001b[0m\n",
            "\u001b[2K     \u001b[90m━━━━━━━━━━━━━━━━━━━━━━━━━━━━━━━━━━━━━━━\u001b[0m \u001b[32m116.8/116.8 kB\u001b[0m \u001b[31m2.7 MB/s\u001b[0m eta \u001b[36m0:00:00\u001b[0m\n",
            "\u001b[2K     \u001b[90m━━━━━━━━━━━━━━━━━━━━━━━━━━━━━━━━━━━━━━━━\u001b[0m \u001b[32m44.8/44.8 kB\u001b[0m \u001b[31m1.7 MB/s\u001b[0m eta \u001b[36m0:00:00\u001b[0m\n",
            "\u001b[2K     \u001b[90m━━━━━━━━━━━━━━━━━━━━━━━━━━━━━━━━━━━━━━━━\u001b[0m \u001b[32m2.7/2.7 MB\u001b[0m \u001b[31m32.9 MB/s\u001b[0m eta \u001b[36m0:00:00\u001b[0m\n",
            "\u001b[2K     \u001b[90m━━━━━━━━━━━━━━━━━━━━━━━━━━━━━━━━━━━━━━━━\u001b[0m \u001b[32m1.6/1.6 MB\u001b[0m \u001b[31m70.3 MB/s\u001b[0m eta \u001b[36m0:00:00\u001b[0m\n",
            "\u001b[2K     \u001b[90m━━━━━━━━━━━━━━━━━━━━━━━━━━━━━━━━━━━━━━\u001b[0m \u001b[32m121.9/121.9 kB\u001b[0m \u001b[31m12.0 MB/s\u001b[0m eta \u001b[36m0:00:00\u001b[0m\n",
            "\u001b[2K     \u001b[90m━━━━━━━━━━━━━━━━━━━━━━━━━━━━━━━━━━━━━━━━\u001b[0m \u001b[32m84.9/84.9 kB\u001b[0m \u001b[31m9.1 MB/s\u001b[0m eta \u001b[36m0:00:00\u001b[0m\n",
            "\u001b[?25h"
          ]
        }
      ],
      "source": [
        "!pip install -q openai\n",
        "!pip install -q google-cloud-secret-manager\n",
        "!pip3 install -U -q PyMySQL sqlalchemy sql_magic"
      ]
    },
    {
      "cell_type": "code",
      "execution_count": 2,
      "metadata": {
        "id": "Lmp5ZIh-XTjP"
      },
      "outputs": [],
      "source": [
        "from google.colab import auth\n",
        "\n",
        "# Login using the account that has access to the Google project\n",
        "# in order to access the resources for the project\n",
        "auth.authenticate_user()"
      ]
    },
    {
      "cell_type": "code",
      "execution_count": 9,
      "metadata": {
        "id": "CuwzTSINVU0q"
      },
      "outputs": [],
      "source": [
        "from google.cloud import secretmanager\n",
        "\n",
        "\n",
        "def access_secret_version(project_id, secret_id, version_id):\n",
        "    \"\"\"\n",
        "    Access the payload of the given secret version and return it.\n",
        "\n",
        "    Args:\n",
        "        project_id (str): Google Cloud project ID.\n",
        "        secret_id (str): ID of the secret to access.\n",
        "        version_id (str): ID of the version to access.\n",
        "    Returns:\n",
        "        str: The secret version's payload, or None if\n",
        "        the version does not exist.\n",
        "    \"\"\"\n",
        "    client = secretmanager.SecretManagerServiceClient()\n",
        "    name = f\"projects/{project_id}/secrets/{secret_id}/versions/{version_id}\"\n",
        "    response = client.access_secret_version(request={\"name\": name})\n",
        "    return response.payload.data.decode(\"UTF-8\")\n",
        "\n",
        "\n",
        "openai_key = access_secret_version(\"sql-autograding\", \"openai-gpt4-32k\", \"latest\")"
      ]
    },
    {
      "cell_type": "code",
      "execution_count": 10,
      "metadata": {
        "id": "N3g_P4GBYTtb"
      },
      "outputs": [],
      "source": [
        "import openai\n",
        "\n",
        "openai.api_key = openai_key"
      ]
    },
    {
      "cell_type": "code",
      "execution_count": 11,
      "metadata": {
        "id": "cjKXNKZ8cG_I"
      },
      "outputs": [],
      "source": [
        "from google.colab import files\n",
        "import io\n",
        "import pandas as pd"
      ]
    },
    {
      "cell_type": "code",
      "execution_count": 12,
      "metadata": {
        "id": "qG_N-6bgcfu7"
      },
      "outputs": [],
      "source": [
        "import pandas as pd\n",
        "import gcsfs\n",
        "\n",
        "fs = gcsfs.GCSFileSystem(project=\"sql_autograding\")\n",
        "with fs.open(\"gs://sql_autograding/cleaned_response.csv\") as f:\n",
        "    data = pd.read_csv(f)"
      ]
    },
    {
      "cell_type": "code",
      "execution_count": 13,
      "metadata": {
        "id": "r_k0_JWtcfxX",
        "outputId": "1357f2f4-d083-42d4-92da-9ac84eada0d2",
        "colab": {
          "base_uri": "https://localhost:8080/",
          "height": 389
        }
      },
      "outputs": [
        {
          "output_type": "execute_result",
          "data": {
            "text/plain": [
              "                              BSpace Course Name BSpace Course Id    QuizName  \\\n",
              "0  Databases for Business Analytics, Winter 2023          251,683  Final Exam   \n",
              "1  Databases for Business Analytics, Winter 2023          251,683  Final Exam   \n",
              "2  Databases for Business Analytics, Winter 2023          251,683  Final Exam   \n",
              "3  Databases for Business Analytics, Winter 2023          251,683  Final Exam   \n",
              "4  Databases for Business Analytics, Winter 2023          251,683  Final Exam   \n",
              "\n",
              "   ﻿QuizId  QuizAttemptNumber QuestionId  \\\n",
              "0  283,453                  1  4,969,729   \n",
              "1  283,453                  1  4,969,713   \n",
              "2  283,453                  1  4,969,711   \n",
              "3  283,453                  1  4,969,710   \n",
              "4  283,453                  1  4,969,709   \n",
              "\n",
              "                                            Question          QuestionType  \\\n",
              "0  Hard question. Requires use of subqueries and ...  Long Answer Question   \n",
              "1  For each order, show the customerID who placed...  Long Answer Question   \n",
              "2  We want to identify the ship countries with th...  Long Answer Question   \n",
              "3  For every customer in the database list the nu...  Long Answer Question   \n",
              "4  Show the date/time of the first order ever dat...  Long Answer Question   \n",
              "\n",
              "                                     InputUserAnswer  Score   NetId  \\\n",
              "0  SELECT \\n    A.CustomerID,\\n    A.CompanyName,...   10.0  ab3864   \n",
              "1   Select O.OrderID, O.CustomerID, Count(D.Produ...    5.5  ab3864   \n",
              "2  use northwind;\\nSELECT \\n    ShipCountry, AVG(...    7.0  ab3864   \n",
              "3  Select C.CompanyName, C.CustomerID, sum(case w...   10.0  ab3864   \n",
              "4  use northwind;\\nSELECT \\n    min(OrderDate) as...    7.5  ab3864   \n",
              "\n",
              "                       Comment left on User Response  \\\n",
              "0  Results for identical to the answer key becaus...   \n",
              "1  -3 pts for lack for HAVING\\n-1 pts for using t...   \n",
              "2                    It is \"LIMIT 3\" not \"LIMIT = 3\"   \n",
              "3                                                NaN   \n",
              "4                                                NaN   \n",
              "\n",
              "                                           AnswerKey  isQuery  \\\n",
              "0  WITH total_spent AS (\\nSELECT C.CustomerID, C....     True   \n",
              "1  SELECT O.OrderID, O.CustomerID\\n&#160; &#160; ...     True   \n",
              "2  SELECT ShipCountry, ROUND(AVG(Freight),2) AS A...     True   \n",
              "3  SELECT C.CustomerID, COUNT(O.OrderID) AS order...     True   \n",
              "4  SELECT MIN(OrderDate) AS earliestOrderDate\\nFR...     True   \n",
              "\n",
              "                   Database  full_score  \\\n",
              "0  ['northwind', 'flights']        10.0   \n",
              "1  ['northwind', 'flights']        10.0   \n",
              "2  ['northwind', 'flights']         7.5   \n",
              "3  ['northwind', 'flights']        10.0   \n",
              "4  ['northwind', 'flights']         7.5   \n",
              "\n",
              "                                            feedback  \n",
              "0  The feedback from the TA was Results for ident...  \n",
              "1  The feedback from the TA was -3 pts for lack f...  \n",
              "2  The feedback from the TA was It is \"LIMIT 3\" n...  \n",
              "3                                                NaN  \n",
              "4                                                NaN  "
            ],
            "text/html": [
              "\n",
              "\n",
              "  <div id=\"df-d2d79827-363d-490a-8541-7fc1101da07c\">\n",
              "    <div class=\"colab-df-container\">\n",
              "      <div>\n",
              "<style scoped>\n",
              "    .dataframe tbody tr th:only-of-type {\n",
              "        vertical-align: middle;\n",
              "    }\n",
              "\n",
              "    .dataframe tbody tr th {\n",
              "        vertical-align: top;\n",
              "    }\n",
              "\n",
              "    .dataframe thead th {\n",
              "        text-align: right;\n",
              "    }\n",
              "</style>\n",
              "<table border=\"1\" class=\"dataframe\">\n",
              "  <thead>\n",
              "    <tr style=\"text-align: right;\">\n",
              "      <th></th>\n",
              "      <th>BSpace Course Name</th>\n",
              "      <th>BSpace Course Id</th>\n",
              "      <th>QuizName</th>\n",
              "      <th>﻿QuizId</th>\n",
              "      <th>QuizAttemptNumber</th>\n",
              "      <th>QuestionId</th>\n",
              "      <th>Question</th>\n",
              "      <th>QuestionType</th>\n",
              "      <th>InputUserAnswer</th>\n",
              "      <th>Score</th>\n",
              "      <th>NetId</th>\n",
              "      <th>Comment left on User Response</th>\n",
              "      <th>AnswerKey</th>\n",
              "      <th>isQuery</th>\n",
              "      <th>Database</th>\n",
              "      <th>full_score</th>\n",
              "      <th>feedback</th>\n",
              "    </tr>\n",
              "  </thead>\n",
              "  <tbody>\n",
              "    <tr>\n",
              "      <th>0</th>\n",
              "      <td>Databases for Business Analytics, Winter 2023</td>\n",
              "      <td>251,683</td>\n",
              "      <td>Final Exam</td>\n",
              "      <td>283,453</td>\n",
              "      <td>1</td>\n",
              "      <td>4,969,729</td>\n",
              "      <td>Hard question. Requires use of subqueries and ...</td>\n",
              "      <td>Long Answer Question</td>\n",
              "      <td>SELECT \\n    A.CustomerID,\\n    A.CompanyName,...</td>\n",
              "      <td>10.0</td>\n",
              "      <td>ab3864</td>\n",
              "      <td>Results for identical to the answer key becaus...</td>\n",
              "      <td>WITH total_spent AS (\\nSELECT C.CustomerID, C....</td>\n",
              "      <td>True</td>\n",
              "      <td>['northwind', 'flights']</td>\n",
              "      <td>10.0</td>\n",
              "      <td>The feedback from the TA was Results for ident...</td>\n",
              "    </tr>\n",
              "    <tr>\n",
              "      <th>1</th>\n",
              "      <td>Databases for Business Analytics, Winter 2023</td>\n",
              "      <td>251,683</td>\n",
              "      <td>Final Exam</td>\n",
              "      <td>283,453</td>\n",
              "      <td>1</td>\n",
              "      <td>4,969,713</td>\n",
              "      <td>For each order, show the customerID who placed...</td>\n",
              "      <td>Long Answer Question</td>\n",
              "      <td>Select O.OrderID, O.CustomerID, Count(D.Produ...</td>\n",
              "      <td>5.5</td>\n",
              "      <td>ab3864</td>\n",
              "      <td>-3 pts for lack for HAVING\\n-1 pts for using t...</td>\n",
              "      <td>SELECT O.OrderID, O.CustomerID\\n&amp;#160; &amp;#160; ...</td>\n",
              "      <td>True</td>\n",
              "      <td>['northwind', 'flights']</td>\n",
              "      <td>10.0</td>\n",
              "      <td>The feedback from the TA was -3 pts for lack f...</td>\n",
              "    </tr>\n",
              "    <tr>\n",
              "      <th>2</th>\n",
              "      <td>Databases for Business Analytics, Winter 2023</td>\n",
              "      <td>251,683</td>\n",
              "      <td>Final Exam</td>\n",
              "      <td>283,453</td>\n",
              "      <td>1</td>\n",
              "      <td>4,969,711</td>\n",
              "      <td>We want to identify the ship countries with th...</td>\n",
              "      <td>Long Answer Question</td>\n",
              "      <td>use northwind;\\nSELECT \\n    ShipCountry, AVG(...</td>\n",
              "      <td>7.0</td>\n",
              "      <td>ab3864</td>\n",
              "      <td>It is \"LIMIT 3\" not \"LIMIT = 3\"</td>\n",
              "      <td>SELECT ShipCountry, ROUND(AVG(Freight),2) AS A...</td>\n",
              "      <td>True</td>\n",
              "      <td>['northwind', 'flights']</td>\n",
              "      <td>7.5</td>\n",
              "      <td>The feedback from the TA was It is \"LIMIT 3\" n...</td>\n",
              "    </tr>\n",
              "    <tr>\n",
              "      <th>3</th>\n",
              "      <td>Databases for Business Analytics, Winter 2023</td>\n",
              "      <td>251,683</td>\n",
              "      <td>Final Exam</td>\n",
              "      <td>283,453</td>\n",
              "      <td>1</td>\n",
              "      <td>4,969,710</td>\n",
              "      <td>For every customer in the database list the nu...</td>\n",
              "      <td>Long Answer Question</td>\n",
              "      <td>Select C.CompanyName, C.CustomerID, sum(case w...</td>\n",
              "      <td>10.0</td>\n",
              "      <td>ab3864</td>\n",
              "      <td>NaN</td>\n",
              "      <td>SELECT C.CustomerID, COUNT(O.OrderID) AS order...</td>\n",
              "      <td>True</td>\n",
              "      <td>['northwind', 'flights']</td>\n",
              "      <td>10.0</td>\n",
              "      <td>NaN</td>\n",
              "    </tr>\n",
              "    <tr>\n",
              "      <th>4</th>\n",
              "      <td>Databases for Business Analytics, Winter 2023</td>\n",
              "      <td>251,683</td>\n",
              "      <td>Final Exam</td>\n",
              "      <td>283,453</td>\n",
              "      <td>1</td>\n",
              "      <td>4,969,709</td>\n",
              "      <td>Show the date/time of the first order ever dat...</td>\n",
              "      <td>Long Answer Question</td>\n",
              "      <td>use northwind;\\nSELECT \\n    min(OrderDate) as...</td>\n",
              "      <td>7.5</td>\n",
              "      <td>ab3864</td>\n",
              "      <td>NaN</td>\n",
              "      <td>SELECT MIN(OrderDate) AS earliestOrderDate\\nFR...</td>\n",
              "      <td>True</td>\n",
              "      <td>['northwind', 'flights']</td>\n",
              "      <td>7.5</td>\n",
              "      <td>NaN</td>\n",
              "    </tr>\n",
              "  </tbody>\n",
              "</table>\n",
              "</div>\n",
              "      <button class=\"colab-df-convert\" onclick=\"convertToInteractive('df-d2d79827-363d-490a-8541-7fc1101da07c')\"\n",
              "              title=\"Convert this dataframe to an interactive table.\"\n",
              "              style=\"display:none;\">\n",
              "\n",
              "  <svg xmlns=\"http://www.w3.org/2000/svg\" height=\"24px\"viewBox=\"0 0 24 24\"\n",
              "       width=\"24px\">\n",
              "    <path d=\"M0 0h24v24H0V0z\" fill=\"none\"/>\n",
              "    <path d=\"M18.56 5.44l.94 2.06.94-2.06 2.06-.94-2.06-.94-.94-2.06-.94 2.06-2.06.94zm-11 1L8.5 8.5l.94-2.06 2.06-.94-2.06-.94L8.5 2.5l-.94 2.06-2.06.94zm10 10l.94 2.06.94-2.06 2.06-.94-2.06-.94-.94-2.06-.94 2.06-2.06.94z\"/><path d=\"M17.41 7.96l-1.37-1.37c-.4-.4-.92-.59-1.43-.59-.52 0-1.04.2-1.43.59L10.3 9.45l-7.72 7.72c-.78.78-.78 2.05 0 2.83L4 21.41c.39.39.9.59 1.41.59.51 0 1.02-.2 1.41-.59l7.78-7.78 2.81-2.81c.8-.78.8-2.07 0-2.86zM5.41 20L4 18.59l7.72-7.72 1.47 1.35L5.41 20z\"/>\n",
              "  </svg>\n",
              "      </button>\n",
              "\n",
              "\n",
              "\n",
              "    <div id=\"df-084019c3-50be-4bc7-904b-068b4d4b9fa4\">\n",
              "      <button class=\"colab-df-quickchart\" onclick=\"quickchart('df-084019c3-50be-4bc7-904b-068b4d4b9fa4')\"\n",
              "              title=\"Suggest charts.\"\n",
              "              style=\"display:none;\">\n",
              "\n",
              "<svg xmlns=\"http://www.w3.org/2000/svg\" height=\"24px\"viewBox=\"0 0 24 24\"\n",
              "     width=\"24px\">\n",
              "    <g>\n",
              "        <path d=\"M19 3H5c-1.1 0-2 .9-2 2v14c0 1.1.9 2 2 2h14c1.1 0 2-.9 2-2V5c0-1.1-.9-2-2-2zM9 17H7v-7h2v7zm4 0h-2V7h2v10zm4 0h-2v-4h2v4z\"/>\n",
              "    </g>\n",
              "</svg>\n",
              "      </button>\n",
              "    </div>\n",
              "\n",
              "<style>\n",
              "  .colab-df-quickchart {\n",
              "    background-color: #E8F0FE;\n",
              "    border: none;\n",
              "    border-radius: 50%;\n",
              "    cursor: pointer;\n",
              "    display: none;\n",
              "    fill: #1967D2;\n",
              "    height: 32px;\n",
              "    padding: 0 0 0 0;\n",
              "    width: 32px;\n",
              "  }\n",
              "\n",
              "  .colab-df-quickchart:hover {\n",
              "    background-color: #E2EBFA;\n",
              "    box-shadow: 0px 1px 2px rgba(60, 64, 67, 0.3), 0px 1px 3px 1px rgba(60, 64, 67, 0.15);\n",
              "    fill: #174EA6;\n",
              "  }\n",
              "\n",
              "  [theme=dark] .colab-df-quickchart {\n",
              "    background-color: #3B4455;\n",
              "    fill: #D2E3FC;\n",
              "  }\n",
              "\n",
              "  [theme=dark] .colab-df-quickchart:hover {\n",
              "    background-color: #434B5C;\n",
              "    box-shadow: 0px 1px 3px 1px rgba(0, 0, 0, 0.15);\n",
              "    filter: drop-shadow(0px 1px 2px rgba(0, 0, 0, 0.3));\n",
              "    fill: #FFFFFF;\n",
              "  }\n",
              "</style>\n",
              "\n",
              "    <script>\n",
              "      async function quickchart(key) {\n",
              "        const containerElement = document.querySelector('#' + key);\n",
              "        const charts = await google.colab.kernel.invokeFunction(\n",
              "            'suggestCharts', [key], {});\n",
              "      }\n",
              "    </script>\n",
              "\n",
              "      <script>\n",
              "\n",
              "function displayQuickchartButton(domScope) {\n",
              "  let quickchartButtonEl =\n",
              "    domScope.querySelector('#df-084019c3-50be-4bc7-904b-068b4d4b9fa4 button.colab-df-quickchart');\n",
              "  quickchartButtonEl.style.display =\n",
              "    google.colab.kernel.accessAllowed ? 'block' : 'none';\n",
              "}\n",
              "\n",
              "        displayQuickchartButton(document);\n",
              "      </script>\n",
              "      <style>\n",
              "    .colab-df-container {\n",
              "      display:flex;\n",
              "      flex-wrap:wrap;\n",
              "      gap: 12px;\n",
              "    }\n",
              "\n",
              "    .colab-df-convert {\n",
              "      background-color: #E8F0FE;\n",
              "      border: none;\n",
              "      border-radius: 50%;\n",
              "      cursor: pointer;\n",
              "      display: none;\n",
              "      fill: #1967D2;\n",
              "      height: 32px;\n",
              "      padding: 0 0 0 0;\n",
              "      width: 32px;\n",
              "    }\n",
              "\n",
              "    .colab-df-convert:hover {\n",
              "      background-color: #E2EBFA;\n",
              "      box-shadow: 0px 1px 2px rgba(60, 64, 67, 0.3), 0px 1px 3px 1px rgba(60, 64, 67, 0.15);\n",
              "      fill: #174EA6;\n",
              "    }\n",
              "\n",
              "    [theme=dark] .colab-df-convert {\n",
              "      background-color: #3B4455;\n",
              "      fill: #D2E3FC;\n",
              "    }\n",
              "\n",
              "    [theme=dark] .colab-df-convert:hover {\n",
              "      background-color: #434B5C;\n",
              "      box-shadow: 0px 1px 3px 1px rgba(0, 0, 0, 0.15);\n",
              "      filter: drop-shadow(0px 1px 2px rgba(0, 0, 0, 0.3));\n",
              "      fill: #FFFFFF;\n",
              "    }\n",
              "  </style>\n",
              "\n",
              "      <script>\n",
              "        const buttonEl =\n",
              "          document.querySelector('#df-d2d79827-363d-490a-8541-7fc1101da07c button.colab-df-convert');\n",
              "        buttonEl.style.display =\n",
              "          google.colab.kernel.accessAllowed ? 'block' : 'none';\n",
              "\n",
              "        async function convertToInteractive(key) {\n",
              "          const element = document.querySelector('#df-d2d79827-363d-490a-8541-7fc1101da07c');\n",
              "          const dataTable =\n",
              "            await google.colab.kernel.invokeFunction('convertToInteractive',\n",
              "                                                     [key], {});\n",
              "          if (!dataTable) return;\n",
              "\n",
              "          const docLinkHtml = 'Like what you see? Visit the ' +\n",
              "            '<a target=\"_blank\" href=https://colab.research.google.com/notebooks/data_table.ipynb>data table notebook</a>'\n",
              "            + ' to learn more about interactive tables.';\n",
              "          element.innerHTML = '';\n",
              "          dataTable['output_type'] = 'display_data';\n",
              "          await google.colab.output.renderOutput(dataTable, element);\n",
              "          const docLink = document.createElement('div');\n",
              "          docLink.innerHTML = docLinkHtml;\n",
              "          element.appendChild(docLink);\n",
              "        }\n",
              "      </script>\n",
              "    </div>\n",
              "  </div>\n"
            ]
          },
          "metadata": {},
          "execution_count": 13
        }
      ],
      "source": [
        "data = data.drop(columns=\"Unnamed: 0\")\n",
        "data.head()"
      ]
    },
    {
      "cell_type": "markdown",
      "metadata": {
        "id": "SD8X_zr3pfBX"
      },
      "source": [
        "## Table Schemas"
      ]
    },
    {
      "cell_type": "code",
      "execution_count": null,
      "metadata": {
        "id": "pSzebBQ9-Rqj"
      },
      "outputs": [],
      "source": [
        "from sqlalchemy import create_engine\n",
        "from sqlalchemy import text"
      ]
    },
    {
      "cell_type": "code",
      "execution_count": null,
      "metadata": {
        "id": "CsHX3CQF-5Hx"
      },
      "outputs": [],
      "source": [
        "db_list = [\n",
        "    \"flights\",\n",
        "    \"imdb\",\n",
        "    \"music\",\n",
        "    \"restaurants\",\n",
        "    \"facebook\",\n",
        "    \"northwind\",\n",
        "    \"collisions\",\n",
        "]\n",
        "\n",
        "\n",
        "def db_schema(db_name):\n",
        "    \"\"\"\n",
        "    Connects to a database and returns the schema of each table in the database.\n",
        "\n",
        "    The function connects to a specific database using SQLAlchemy. It then retrieves the list of tables in\n",
        "    the database and for each table, it queries the schema (i.e., the list of fields/columns) and stores it\n",
        "    in a dictionary. The function returns a list of such dictionaries, with each dictionary representing a table\n",
        "    and its corresponding schema.\n",
        "\n",
        "    Args:\n",
        "        db_name (str): The name of the database to connect to and retrieve schemas from.\n",
        "\n",
        "    Returns:\n",
        "        list: A list of dictionaries, with each dictionary containing the name of a table as the key and a\n",
        "              list of its fields as the value.\n",
        "\n",
        "    Example:\n",
        "        >>> db_schema('flights')\n",
        "        {'m_airports': ['airport', 'state', 'state_name']},\n",
        "        {'m_ticket_prices': ['origin', 'dest', 'carrier', 'fare', 'fare_per_mile','passengers', 'distance']\n",
        "        ...\n",
        "        },\n",
        "    \"\"\"\n",
        "\n",
        "    student_password = access_secret_version(\n",
        "        \"sql-autograding\", \"db_student_password\", \"1\"\n",
        "    )\n",
        "\n",
        "    conn_string = (\n",
        "        \"mysql+pymysql://{user}:{password}@{host}/{db}?charset=utf8mb4\".format(\n",
        "            host=\"db.ipeirotis.org\",\n",
        "            user=\"student\",\n",
        "            password=student_password,\n",
        "            db=db_name,\n",
        "            encoding=\"utf8mb4\",\n",
        "        )\n",
        "    )\n",
        "    engine = create_engine(conn_string)\n",
        "\n",
        "    with engine.begin() as conn:\n",
        "        tables = pd.read_sql_query(sql=text(\"show tables\"), con=conn)\n",
        "        tables = tables.iloc[:, -1].tolist()\n",
        "\n",
        "        schema_list = []\n",
        "        for t in tables:\n",
        "            d = pd.read_sql_query(sql=text(f\"describe {t}\"), con=conn)\n",
        "            table_schema = {t: d.loc[:, \"Field\"].tolist()}\n",
        "            schema_list.append(table_schema)\n",
        "    return schema_list"
      ]
    },
    {
      "cell_type": "code",
      "execution_count": null,
      "metadata": {
        "id": "Ocv2TQ7U-Rtz"
      },
      "outputs": [],
      "source": [
        "flights_schema = db_schema(\"flights\")\n",
        "imdb_schema = db_schema(\"imdb\")\n",
        "music_schema = db_schema(\"music\")\n",
        "restaurants_schema = db_schema(\"restaurants\")\n",
        "facebook_schema = db_schema(\"facebook\")\n",
        "northwind_schema = db_schema(\"northwind\")\n",
        "collisions_schema = db_schema(\"collisions\")\n",
        "\n",
        "print(facebook_schema)"
      ]
    },
    {
      "cell_type": "code",
      "execution_count": null,
      "metadata": {
        "id": "Km2nCEstFabH"
      },
      "outputs": [],
      "source": [
        "schema_mapping = {\n",
        "    \"flights\": flights_schema,\n",
        "    \"imdb\": imdb_schema,\n",
        "    \"music\": music_schema,\n",
        "    \"restaurants\": restaurants_schema,\n",
        "    \"facebook\": facebook_schema,\n",
        "    \"northwind\": northwind_schema,\n",
        "    \"collisions\": collisions_schema,\n",
        "    \"['northwind', 'flights']\": (northwind_schema, flights_schema),\n",
        "}"
      ]
    },
    {
      "cell_type": "code",
      "execution_count": null,
      "metadata": {
        "id": "LRCDc304ACQB"
      },
      "outputs": [],
      "source": [
        "# # print(schema_fun(['northwind', 'flights']))\n",
        "# import re\n",
        "# def convert_to_list(string):\n",
        "#     # Remove the square brackets and extra spaces\n",
        "#     cleaned_string = re.sub(r'\\[|\\]', '', string).strip()\n",
        "#     # Split the string into individual elements\n",
        "#     elements = [elem.strip() for elem in cleaned_string.split(',')]\n",
        "#     # Return the converted list\n",
        "#     return elements"
      ]
    },
    {
      "cell_type": "code",
      "execution_count": null,
      "metadata": {
        "id": "10Ewguzg_rhs"
      },
      "outputs": [],
      "source": [
        "# def schema_fun(db):\n",
        "#   if isinstance(db, list):\n",
        "#     # schema_list = []\n",
        "#     # for name in db:\n",
        "#     #   schema_list.append(db_schema(name))\n",
        "#     # return schema_list\n",
        "#     return [db_schema(name) for name in db]\n",
        "#   else:\n",
        "#     return db_schema(db)"
      ]
    },
    {
      "cell_type": "code",
      "execution_count": null,
      "metadata": {
        "id": "c_dYEFof-RzR"
      },
      "outputs": [],
      "source": [
        "data[\"schema\"] = data[\"Database\"].map(schema_mapping)\n",
        "data.head()"
      ]
    },
    {
      "cell_type": "code",
      "execution_count": null,
      "metadata": {
        "id": "VNQGwRJJ9jcB"
      },
      "outputs": [],
      "source": [
        "from bs4 import BeautifulSoup\n",
        "\n",
        "# Create a function to clean up a single text string\n",
        "def clean_html_content(text):\n",
        "    if pd.isna(text):\n",
        "        return text\n",
        "    if not isinstance(text, str):\n",
        "        text = str(text)\n",
        "    try:\n",
        "        soup = BeautifulSoup(text, \"html.parser\")\n",
        "        return soup.get_text()\n",
        "    except:\n",
        "        return text\n",
        "\n",
        "\n",
        "# Apply the function to every text column in your DataFrame\n",
        "for col in data.columns:\n",
        "    if col in (\"Database\", \"schema\"):\n",
        "        continue\n",
        "    if data[col].dtype == object:  # if the column is a text column\n",
        "        data[col] = data[col].apply(clean_html_content)"
      ]
    },
    {
      "cell_type": "code",
      "execution_count": null,
      "metadata": {
        "id": "RcQZQjkInp2e"
      },
      "outputs": [],
      "source": [
        "# data = data.replace('&nbsp;', ' ', regex=True)\n",
        "# data = data.replace('&#160;', ' ', regex=True)"
      ]
    },
    {
      "cell_type": "markdown",
      "metadata": {
        "id": "Dvl9i8Lkk0fy"
      },
      "source": [
        "## Group questions"
      ]
    },
    {
      "cell_type": "code",
      "execution_count": null,
      "metadata": {
        "id": "FYzZlsa_lfV7"
      },
      "outputs": [],
      "source": [
        "from sklearn.model_selection import train_test_split"
      ]
    },
    {
      "cell_type": "code",
      "execution_count": null,
      "metadata": {
        "id": "6VPyCd7nlYjq"
      },
      "outputs": [],
      "source": [
        "# train_df, test_df = train_test_split(data, test_size=0.2, stratify=data['QuestionId'], random_state=1234)"
      ]
    },
    {
      "cell_type": "code",
      "execution_count": null,
      "metadata": {
        "id": "_nKfyEjck3tG"
      },
      "outputs": [],
      "source": [
        "df = data[data[\"QuestionId\"] == \"5,119,721\"]\n",
        "df.head()"
      ]
    },
    {
      "cell_type": "code",
      "execution_count": null,
      "metadata": {
        "id": "_MaXJLlyk3vo"
      },
      "outputs": [],
      "source": [
        "qids = df[\"QuestionId\"].unique()\n",
        "print(qids)"
      ]
    },
    {
      "cell_type": "markdown",
      "metadata": {
        "id": "hE_SIhzfcjO7"
      },
      "source": [
        "## Mega Prompt"
      ]
    },
    {
      "cell_type": "markdown",
      "metadata": {
        "id": "wbr61YXmghK9"
      },
      "source": [
        "===============================\n",
        "\n",
        "a. We are working with the XXX database, which has the following tables:\n",
        "artist(id, first_name, last_name)\n",
        "album(id, artist_id, name)\n",
        "track....\n",
        "\n",
        "b. The request to the student is \"Fetch all the tracks for user X\"\n",
        "\n",
        "c. The model answer is ..... (note that we may have multiple correct\n",
        "answers, the model answer is just an example)\n",
        "\n",
        "d. The student answer was .....\n",
        "\n",
        "e. Previously, students have submitted these answers and got back\n",
        "these responses and grades:\n",
        "\n",
        "e1. submission: ..... , grade: ..... , feedback\n",
        "\n",
        "e2. submission: ..... , grade: ..... , feedback\n",
        "\n",
        "e3. submission: ..... , grade: ..... , feedback\n",
        "\n",
        "Please provide a grade and feedback for the student\n",
        "\n",
        "==============================="
      ]
    },
    {
      "cell_type": "code",
      "execution_count": null,
      "metadata": {
        "id": "cVDKUG96cf2C"
      },
      "outputs": [],
      "source": [
        "from typing import List\n",
        "\n",
        "\n",
        "def generate_submissions_string(\n",
        "    train_df: pd.DataFrame, submission_size: int = None\n",
        ") -> str:\n",
        "    \"\"\"\n",
        "    Generate a string that concatenates student submissions up to the given size.\n",
        "\n",
        "    Args:\n",
        "        train_df (pd.DataFrame): The DataFrame containing the training data.\n",
        "        submission_size (int, optional): The number of submissions to include in the string. If None, include all submissions.\n",
        "\n",
        "    Returns:\n",
        "        str: A string containing the concatenated submissions.\n",
        "    \"\"\"\n",
        "    submissions = \"\"\n",
        "    for i, row in train_df.iterrows():\n",
        "        if submission_size is not None and i >= submission_size:\n",
        "            break\n",
        "        submission = row[\"InputUserAnswer\"]\n",
        "        grade = row[\"Score\"]\n",
        "        full_grade = row[\"full_score\"]\n",
        "        feedback = row[\"feedback\"]\n",
        "        submissions += f\"e{i}. submission: {submission}, grade: {grade}/{full_grade}, feedback: {feedback} \\\\n\\\\n\"\n",
        "    return submissions\n",
        "\n",
        "\n",
        "def generate_mega_prompt_for_id(\n",
        "    df: pd.DataFrame, id: str, submission_size: int = None\n",
        ") -> str:\n",
        "    \"\"\"\n",
        "    Generate a mega prompt for a specific QuestionId.\n",
        "\n",
        "    Args:\n",
        "        df (pd.DataFrame): The DataFrame containing the data.\n",
        "        id (str): The QuestionId to generate the mega prompt for.\n",
        "        submission_size (int, optional): The number of submissions to include in the mega prompt. If None, include all submissions.\n",
        "\n",
        "    Returns:\n",
        "        str: The mega prompt.\n",
        "    \"\"\"\n",
        "    temp = df[df[\"QuestionId\"] == id]\n",
        "\n",
        "    # If there's only one row or less, return None or handle it in a special way\n",
        "    if len(temp) <= 1:\n",
        "        return None  # TODO: Check what to return in this scenario\n",
        "\n",
        "    # making test size 1\n",
        "    train_df, test_df = train_test_split(temp, test_size=1, random_state=1234)\n",
        "    train_df = train_df.reset_index()\n",
        "    test_df = test_df.reset_index()\n",
        "\n",
        "    submissions = generate_submissions_string(train_df, submission_size)\n",
        "\n",
        "    db = train_df.loc[0, \"Database\"]\n",
        "    tables = train_df.loc[0, \"schema\"]\n",
        "    question = train_df.loc[0, \"Question\"]\n",
        "    key = train_df.loc[0, \"AnswerKey\"]\n",
        "\n",
        "    test = test_df.loc[0, \"InputUserAnswer\"]\n",
        "\n",
        "    mega_p = f\"\"\"\n",
        "      a. We are working with the {db} database, which has the following tables: {tables}\n",
        "\n",
        "      b. The request to the student is \"{question}\"\n",
        "\n",
        "      c. The model answer is {key} (note that we may have multiple correct answers, the model answer is just an example)\n",
        "\n",
        "      d. The student answer was {test}\n",
        "\n",
        "      e. Previously, students have submitted these answers and got back these responses and grades: \\\\n{submissions}\n",
        "\n",
        "      Please provide a grade and feedback for the student\n",
        "      \"\"\"\n",
        "    return mega_p\n",
        "\n",
        "\n",
        "def generate_mega_prompts(\n",
        "    df: pd.DataFrame, submission_size: int = None\n",
        ") -> pd.DataFrame:\n",
        "    \"\"\"\n",
        "    Generate a DataFrame of mega prompts for each unique QuestionId in the given DataFrame.\n",
        "\n",
        "    Args:\n",
        "        df (pd.DataFrame): The DataFrame containing the data.\n",
        "        submission_size (int, optional): The number of submissions to include in each mega prompt. If None, include all submissions.\n",
        "\n",
        "    Returns:\n",
        "        pd.DataFrame: A DataFrame containing the mega prompts.\n",
        "    \"\"\"\n",
        "    # mega_df = pd.DataFrame(columns=['QuestionId', 'MegaPrompt'])\n",
        "    result = []\n",
        "    qids = df[\"QuestionId\"].unique()\n",
        "\n",
        "    for id in qids:\n",
        "        mega_p = generate_mega_prompt_for_id(df, id, submission_size)\n",
        "        new_row = {\"QuestionId\": id, \"MegaPrompt\": mega_p}\n",
        "        result.append(new_row)\n",
        "\n",
        "    mega_df = pd.DataFrame(result)\n",
        "\n",
        "    return mega_df"
      ]
    },
    {
      "cell_type": "code",
      "execution_count": null,
      "metadata": {
        "id": "0-_5Yo5xcf4J"
      },
      "outputs": [],
      "source": [
        "# for all questions each with all submissions => new df\n",
        "mega_df_all = generate_mega_prompts(data)\n",
        "mega_df_all.head()"
      ]
    },
    {
      "cell_type": "code",
      "execution_count": null,
      "metadata": {
        "id": "Xcq_a5aW615i"
      },
      "outputs": [],
      "source": [
        "print(mega_df_all.loc[0, \"MegaPrompt\"])"
      ]
    },
    {
      "cell_type": "code",
      "execution_count": null,
      "metadata": {
        "id": "W_jNNYgi618-"
      },
      "outputs": [],
      "source": [
        "# select a specific question and control submission size\n",
        "df = data[data[\"QuestionId\"] == \"5,168,443\"]\n",
        "\n",
        "df0 = generate_mega_prompts(df, 0)\n",
        "df0.head()"
      ]
    },
    {
      "cell_type": "code",
      "execution_count": null,
      "metadata": {
        "id": "ddURkonabgAC"
      },
      "outputs": [],
      "source": [
        "df5 = generate_mega_prompts(df, 5)\n",
        "df10 = generate_mega_prompts(df, 10)\n",
        "df20 = generate_mega_prompts(df, 20)\n",
        "df_all = generate_mega_prompts(df, len(df))"
      ]
    },
    {
      "cell_type": "markdown",
      "metadata": {
        "id": "5Doc6Lv0co-8"
      },
      "source": [
        "## GPT4"
      ]
    },
    {
      "cell_type": "code",
      "execution_count": null,
      "metadata": {
        "id": "LWD3YE-sAnIK"
      },
      "outputs": [],
      "source": [
        "def GPT4_generation(prompt):\n",
        "    response = openai.ChatCompletion.create(\n",
        "        model=\"gpt-4-32k\",\n",
        "        messages=[{\"role\": \"user\", \"content\": prompt}],\n",
        "        n=1,\n",
        "        stream=False,\n",
        "        temperature=0.0,\n",
        "        max_tokens=600,\n",
        "        top_p=1.0,\n",
        "        frequency_penalty=0.0,\n",
        "        presence_penalty=0.0\n",
        "        # stop = [\"Q:\"]\n",
        "    )\n",
        "    return response[\"choices\"][0][\"message\"][\"content\"]"
      ]
    },
    {
      "cell_type": "code",
      "execution_count": null,
      "metadata": {
        "id": "S5gy_zhlcfRa"
      },
      "outputs": [],
      "source": [
        "print(GPT4_generation(df0.loc[0, \"MegaPrompt\"]))"
      ]
    },
    {
      "cell_type": "code",
      "execution_count": null,
      "metadata": {
        "id": "x0tRG8lnfxnt"
      },
      "outputs": [],
      "source": [
        "print(GPT4_generation(df5.loc[0, \"MegaPrompt\"]))"
      ]
    },
    {
      "cell_type": "code",
      "execution_count": null,
      "metadata": {
        "id": "lKcB4Zdm_MQ1"
      },
      "outputs": [],
      "source": [
        "print(GPT4_generation(df10.loc[0, \"MegaPrompt\"]))"
      ]
    },
    {
      "cell_type": "code",
      "execution_count": null,
      "metadata": {
        "id": "Wjp4NLtn_MbC"
      },
      "outputs": [],
      "source": [
        "print(GPT4_generation(df20.loc[0, \"MegaPrompt\"]))"
      ]
    },
    {
      "cell_type": "code",
      "execution_count": null,
      "metadata": {
        "id": "JQI2MfL2fxwy"
      },
      "outputs": [],
      "source": [
        "print(GPT4_generation(df_all.loc[0, \"MegaPrompt\"]))"
      ]
    },
    {
      "cell_type": "code",
      "execution_count": null,
      "metadata": {
        "id": "F9CittlfJL5A"
      },
      "outputs": [],
      "source": [
        "def test_shots(qid, n):\n",
        "    df = data[data[\"QuestionId\"] == qid]\n",
        "    df_n = generate_mega_prompts(df, n)\n",
        "    # df_n.head()\n",
        "    print(f\"{n} submissions:\")\n",
        "    print(GPT4_generation(df_n.loc[0, \"MegaPrompt\"]))"
      ]
    },
    {
      "cell_type": "code",
      "execution_count": null,
      "metadata": {
        "id": "O_R05vvSKe37"
      },
      "outputs": [],
      "source": [
        "for i in range(0, 21, 5):\n",
        "    test_shots(\"5,168,443\", i)"
      ]
    },
    {
      "cell_type": "code",
      "execution_count": null,
      "metadata": {
        "id": "62Q3jcByHJJR"
      },
      "outputs": [],
      "source": [
        "mega_df_all.shape\n",
        "mega_df_all.head(20)"
      ]
    },
    {
      "cell_type": "code",
      "execution_count": null,
      "metadata": {
        "id": "QAMfy4Xm69NJ"
      },
      "outputs": [],
      "source": [
        "mega_df_all.shape"
      ]
    },
    {
      "cell_type": "code",
      "execution_count": null,
      "metadata": {
        "id": "jM-mH10F7Fmy"
      },
      "outputs": [],
      "source": [
        "from tqdm import tqdm"
      ]
    },
    {
      "cell_type": "code",
      "execution_count": null,
      "metadata": {
        "id": "kxuKag4IHgsH"
      },
      "outputs": [],
      "source": [
        "for i, p in tqdm(mega_df_all.iterrows()):\n",
        "    # print(i, len(p['MegaPrompt'].split()))\n",
        "    p[\"feedback\"] = GPT4_generation(p[\"MegaPrompt\"])\n",
        "\n",
        "mega_df_all.head()"
      ]
    },
    {
      "cell_type": "code",
      "execution_count": null,
      "metadata": {
        "id": "UxYM0VDu87bx"
      },
      "outputs": [],
      "source": [
        "mega_df_all[\"feedback\"] = mega_df_all[\"MegaPrompt\"].apply(GPT4_generation)\n",
        "mega_df_all.head()"
      ]
    },
    {
      "cell_type": "code",
      "execution_count": null,
      "metadata": {
        "id": "RRYWmXy2cf9X"
      },
      "outputs": [],
      "source": []
    },
    {
      "cell_type": "code",
      "execution_count": null,
      "metadata": {
        "id": "ur0jal2dcgAJ"
      },
      "outputs": [],
      "source": []
    }
  ],
  "metadata": {
    "colab": {
      "provenance": [],
      "include_colab_link": true
    },
    "kernelspec": {
      "display_name": "Python 3 (ipykernel)",
      "language": "python",
      "name": "python3"
    },
    "language_info": {
      "codemirror_mode": {
        "name": "ipython",
        "version": 3
      },
      "file_extension": ".py",
      "mimetype": "text/x-python",
      "name": "python",
      "nbconvert_exporter": "python",
      "pygments_lexer": "ipython3",
      "version": "3.10.4"
    }
  },
  "nbformat": 4,
  "nbformat_minor": 0
}