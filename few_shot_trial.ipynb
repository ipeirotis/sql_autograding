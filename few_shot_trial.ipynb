{
  "nbformat": 4,
  "nbformat_minor": 0,
  "metadata": {
    "colab": {
      "provenance": [],
      "include_colab_link": true
    },
    "kernelspec": {
      "name": "python3",
      "display_name": "Python 3"
    },
    "language_info": {
      "name": "python"
    }
  },
  "cells": [
    {
      "cell_type": "markdown",
      "metadata": {
        "id": "view-in-github",
        "colab_type": "text"
      },
      "source": [
        "<a href=\"https://colab.research.google.com/github/ipeirotis/sql_autograding/blob/main/few_shot_trial.ipynb\" target=\"_parent\"><img src=\"https://colab.research.google.com/assets/colab-badge.svg\" alt=\"Open In Colab\"/></a>"
      ]
    },
    {
      "cell_type": "code",
      "source": [
        "!pip install -q openai\n",
        "!pip install -q google-cloud-secret-manager\n",
        "!pip3 install -U -q PyMySQL sqlalchemy sql_magic"
      ],
      "metadata": {
        "id": "DnUJuLCwe4zM",
        "colab": {
          "base_uri": "https://localhost:8080/"
        },
        "outputId": "14608b40-2452-4dcb-e03c-a205cd66aa9b"
      },
      "execution_count": 1,
      "outputs": [
        {
          "output_type": "stream",
          "name": "stdout",
          "text": [
            "\u001b[2K     \u001b[90m━━━━━━━━━━━━━━━━━━━━━━━━━━━━━━━━━━━━━━━━\u001b[0m \u001b[32m73.6/73.6 kB\u001b[0m \u001b[31m6.1 MB/s\u001b[0m eta \u001b[36m0:00:00\u001b[0m\n",
            "\u001b[2K     \u001b[90m━━━━━━━━━━━━━━━━━━━━━━━━━━━━━━━━━━━━━━━\u001b[0m \u001b[32m116.8/116.8 kB\u001b[0m \u001b[31m9.2 MB/s\u001b[0m eta \u001b[36m0:00:00\u001b[0m\n",
            "\u001b[2K     \u001b[90m━━━━━━━━━━━━━━━━━━━━━━━━━━━━━━━━━━━━━━━━\u001b[0m \u001b[32m44.8/44.8 kB\u001b[0m \u001b[31m3.0 MB/s\u001b[0m eta \u001b[36m0:00:00\u001b[0m\n",
            "\u001b[2K     \u001b[90m━━━━━━━━━━━━━━━━━━━━━━━━━━━━━━━━━━━━━━━━\u001b[0m \u001b[32m2.7/2.7 MB\u001b[0m \u001b[31m93.9 MB/s\u001b[0m eta \u001b[36m0:00:00\u001b[0m\n",
            "\u001b[2K     \u001b[90m━━━━━━━━━━━━━━━━━━━━━━━━━━━━━━━━━━━━━━━━\u001b[0m \u001b[32m1.6/1.6 MB\u001b[0m \u001b[31m83.6 MB/s\u001b[0m eta \u001b[36m0:00:00\u001b[0m\n",
            "\u001b[2K     \u001b[90m━━━━━━━━━━━━━━━━━━━━━━━━━━━━━━━━━━━━━━\u001b[0m \u001b[32m121.9/121.9 kB\u001b[0m \u001b[31m14.4 MB/s\u001b[0m eta \u001b[36m0:00:00\u001b[0m\n",
            "\u001b[2K     \u001b[90m━━━━━━━━━━━━━━━━━━━━━━━━━━━━━━━━━━━━━━━━\u001b[0m \u001b[32m84.9/84.9 kB\u001b[0m \u001b[31m9.5 MB/s\u001b[0m eta \u001b[36m0:00:00\u001b[0m\n",
            "\u001b[?25h"
          ]
        }
      ]
    },
    {
      "cell_type": "code",
      "source": [
        "from google.colab import auth\n",
        "# Login using the account that has access to the Google project\n",
        "# in order to access the resources for the project\n",
        "auth.authenticate_user()"
      ],
      "metadata": {
        "id": "Lmp5ZIh-XTjP"
      },
      "execution_count": 2,
      "outputs": []
    },
    {
      "cell_type": "code",
      "source": [
        "from google.cloud import secretmanager\n",
        "\n",
        "def access_secret_version(project_id, secret_id, version_id):\n",
        "    \"\"\"\n",
        "    Access the payload of the given secret version and return it.\n",
        "\n",
        "    Args:\n",
        "        project_id (str): Google Cloud project ID.\n",
        "        secret_id (str): ID of the secret to access.\n",
        "        version_id (str): ID of the version to access.\n",
        "    Returns:\n",
        "        str: The secret version's payload, or None if\n",
        "        the version does not exist.\n",
        "    \"\"\"\n",
        "    client = secretmanager.SecretManagerServiceClient()\n",
        "    name = f\"projects/{project_id}/secrets/{secret_id}/versions/{version_id}\"\n",
        "    response = client.access_secret_version(request={\"name\": name})\n",
        "    return response.payload.data.decode('UTF-8')\n",
        "\n",
        "openai_key = access_secret_version(\"sql-autograding\", \"openai-gpt4-32k\", \"3\")\n"
      ],
      "metadata": {
        "id": "CuwzTSINVU0q"
      },
      "execution_count": 3,
      "outputs": []
    },
    {
      "cell_type": "code",
      "source": [
        "import openai\n",
        "\n",
        "openai.api_key = openai_key"
      ],
      "metadata": {
        "id": "N3g_P4GBYTtb"
      },
      "execution_count": 4,
      "outputs": []
    },
    {
      "cell_type": "code",
      "execution_count": 5,
      "metadata": {
        "id": "cjKXNKZ8cG_I"
      },
      "outputs": [],
      "source": [
        "\n",
        "from google.colab import files\n",
        "import io\n",
        "import pandas as pd"
      ]
    },
    {
      "cell_type": "code",
      "source": [
        "!gsutil cp gs://sql_autograding/cleaned_response.csv cleaned_response.csv"
      ],
      "metadata": {
        "colab": {
          "base_uri": "https://localhost:8080/"
        },
        "id": "qG_N-6bgcfu7",
        "outputId": "4d56e89a-b1ee-4cf6-cb04-79545ce90406"
      },
      "execution_count": 6,
      "outputs": [
        {
          "output_type": "stream",
          "name": "stdout",
          "text": [
            "Copying gs://sql_autograding/cleaned_response.csv...\n",
            "/ [0 files][    0.0 B/  2.8 MiB]                                                \r/ [1 files][  2.8 MiB/  2.8 MiB]                                                \r\n",
            "Operation completed over 1 objects/2.8 MiB.                                      \n"
          ]
        }
      ]
    },
    {
      "cell_type": "code",
      "source": [
        "data = pd.read_csv('cleaned_response.csv')\n",
        "data = data.drop(columns='Unnamed: 0')\n",
        "data.head()"
      ],
      "metadata": {
        "colab": {
          "base_uri": "https://localhost:8080/",
          "height": 773
        },
        "id": "r_k0_JWtcfxX",
        "outputId": "9c82b118-3228-4cc5-8a0c-32255d4d2b87"
      },
      "execution_count": 7,
      "outputs": [
        {
          "output_type": "execute_result",
          "data": {
            "text/plain": [
              "                              BSpace Course Name BSpace Course Id    QuizName  \\\n",
              "0  Databases for Business Analytics, Winter 2023          251,683  Final Exam   \n",
              "1  Databases for Business Analytics, Winter 2023          251,683  Final Exam   \n",
              "2  Databases for Business Analytics, Winter 2023          251,683  Final Exam   \n",
              "3  Databases for Business Analytics, Winter 2023          251,683  Final Exam   \n",
              "4  Databases for Business Analytics, Winter 2023          251,683  Final Exam   \n",
              "\n",
              "   ﻿QuizId  QuizAttemptNumber QuestionId  \\\n",
              "0  283,453                  1  4,969,729   \n",
              "1  283,453                  1  4,969,713   \n",
              "2  283,453                  1  4,969,711   \n",
              "3  283,453                  1  4,969,710   \n",
              "4  283,453                  1  4,969,709   \n",
              "\n",
              "                                            Question          QuestionType  \\\n",
              "0  Hard question. Requires use of subqueries and ...  Long Answer Question   \n",
              "1  For each order, show the customerID who placed...  Long Answer Question   \n",
              "2  We want to identify the ship countries with th...  Long Answer Question   \n",
              "3  For every customer in the database list the nu...  Long Answer Question   \n",
              "4  Show the date/time of the first order ever dat...  Long Answer Question   \n",
              "\n",
              "                                     InputUserAnswer  Score   NetId  \\\n",
              "0  SELECT \\n    A.CustomerID,\\n    A.CompanyName,...   10.0  ab3864   \n",
              "1   Select O.OrderID, O.CustomerID, Count(D.Produ...    5.5  ab3864   \n",
              "2  use northwind;\\nSELECT \\n    ShipCountry, AVG(...    7.0  ab3864   \n",
              "3  Select C.CompanyName, C.CustomerID, sum(case w...   10.0  ab3864   \n",
              "4  use northwind;\\nSELECT \\n    min(OrderDate) as...    7.5  ab3864   \n",
              "\n",
              "                       Comment left on User Response  \\\n",
              "0  Results for identical to the answer key becaus...   \n",
              "1  -3 pts for lack for HAVING\\n-1 pts for using t...   \n",
              "2                    It is \"LIMIT 3\" not \"LIMIT = 3\"   \n",
              "3                                                NaN   \n",
              "4                                                NaN   \n",
              "\n",
              "                                           AnswerKey  isQuery  \\\n",
              "0  WITH total_spent AS (\\nSELECT C.CustomerID, C....     True   \n",
              "1  SELECT O.OrderID, O.CustomerID\\n&#160; &#160; ...     True   \n",
              "2  SELECT ShipCountry, ROUND(AVG(Freight),2) AS A...     True   \n",
              "3  SELECT C.CustomerID, COUNT(O.OrderID) AS order...     True   \n",
              "4  SELECT MIN(OrderDate) AS earliestOrderDate\\nFR...     True   \n",
              "\n",
              "                   Database  full_score  \\\n",
              "0  ['northwind', 'flights']        10.0   \n",
              "1  ['northwind', 'flights']        10.0   \n",
              "2  ['northwind', 'flights']         7.5   \n",
              "3  ['northwind', 'flights']        10.0   \n",
              "4  ['northwind', 'flights']         7.5   \n",
              "\n",
              "                                            feedback  \n",
              "0  The feedback from the TA was Results for ident...  \n",
              "1  The feedback from the TA was -3 pts for lack f...  \n",
              "2  The feedback from the TA was It is \"LIMIT 3\" n...  \n",
              "3                                                NaN  \n",
              "4                                                NaN  "
            ],
            "text/html": [
              "\n",
              "  <div id=\"df-6707d7c3-f80f-48ae-bc0c-4bf21002e520\">\n",
              "    <div class=\"colab-df-container\">\n",
              "      <div>\n",
              "<style scoped>\n",
              "    .dataframe tbody tr th:only-of-type {\n",
              "        vertical-align: middle;\n",
              "    }\n",
              "\n",
              "    .dataframe tbody tr th {\n",
              "        vertical-align: top;\n",
              "    }\n",
              "\n",
              "    .dataframe thead th {\n",
              "        text-align: right;\n",
              "    }\n",
              "</style>\n",
              "<table border=\"1\" class=\"dataframe\">\n",
              "  <thead>\n",
              "    <tr style=\"text-align: right;\">\n",
              "      <th></th>\n",
              "      <th>BSpace Course Name</th>\n",
              "      <th>BSpace Course Id</th>\n",
              "      <th>QuizName</th>\n",
              "      <th>﻿QuizId</th>\n",
              "      <th>QuizAttemptNumber</th>\n",
              "      <th>QuestionId</th>\n",
              "      <th>Question</th>\n",
              "      <th>QuestionType</th>\n",
              "      <th>InputUserAnswer</th>\n",
              "      <th>Score</th>\n",
              "      <th>NetId</th>\n",
              "      <th>Comment left on User Response</th>\n",
              "      <th>AnswerKey</th>\n",
              "      <th>isQuery</th>\n",
              "      <th>Database</th>\n",
              "      <th>full_score</th>\n",
              "      <th>feedback</th>\n",
              "    </tr>\n",
              "  </thead>\n",
              "  <tbody>\n",
              "    <tr>\n",
              "      <th>0</th>\n",
              "      <td>Databases for Business Analytics, Winter 2023</td>\n",
              "      <td>251,683</td>\n",
              "      <td>Final Exam</td>\n",
              "      <td>283,453</td>\n",
              "      <td>1</td>\n",
              "      <td>4,969,729</td>\n",
              "      <td>Hard question. Requires use of subqueries and ...</td>\n",
              "      <td>Long Answer Question</td>\n",
              "      <td>SELECT \\n    A.CustomerID,\\n    A.CompanyName,...</td>\n",
              "      <td>10.0</td>\n",
              "      <td>ab3864</td>\n",
              "      <td>Results for identical to the answer key becaus...</td>\n",
              "      <td>WITH total_spent AS (\\nSELECT C.CustomerID, C....</td>\n",
              "      <td>True</td>\n",
              "      <td>['northwind', 'flights']</td>\n",
              "      <td>10.0</td>\n",
              "      <td>The feedback from the TA was Results for ident...</td>\n",
              "    </tr>\n",
              "    <tr>\n",
              "      <th>1</th>\n",
              "      <td>Databases for Business Analytics, Winter 2023</td>\n",
              "      <td>251,683</td>\n",
              "      <td>Final Exam</td>\n",
              "      <td>283,453</td>\n",
              "      <td>1</td>\n",
              "      <td>4,969,713</td>\n",
              "      <td>For each order, show the customerID who placed...</td>\n",
              "      <td>Long Answer Question</td>\n",
              "      <td>Select O.OrderID, O.CustomerID, Count(D.Produ...</td>\n",
              "      <td>5.5</td>\n",
              "      <td>ab3864</td>\n",
              "      <td>-3 pts for lack for HAVING\\n-1 pts for using t...</td>\n",
              "      <td>SELECT O.OrderID, O.CustomerID\\n&amp;#160; &amp;#160; ...</td>\n",
              "      <td>True</td>\n",
              "      <td>['northwind', 'flights']</td>\n",
              "      <td>10.0</td>\n",
              "      <td>The feedback from the TA was -3 pts for lack f...</td>\n",
              "    </tr>\n",
              "    <tr>\n",
              "      <th>2</th>\n",
              "      <td>Databases for Business Analytics, Winter 2023</td>\n",
              "      <td>251,683</td>\n",
              "      <td>Final Exam</td>\n",
              "      <td>283,453</td>\n",
              "      <td>1</td>\n",
              "      <td>4,969,711</td>\n",
              "      <td>We want to identify the ship countries with th...</td>\n",
              "      <td>Long Answer Question</td>\n",
              "      <td>use northwind;\\nSELECT \\n    ShipCountry, AVG(...</td>\n",
              "      <td>7.0</td>\n",
              "      <td>ab3864</td>\n",
              "      <td>It is \"LIMIT 3\" not \"LIMIT = 3\"</td>\n",
              "      <td>SELECT ShipCountry, ROUND(AVG(Freight),2) AS A...</td>\n",
              "      <td>True</td>\n",
              "      <td>['northwind', 'flights']</td>\n",
              "      <td>7.5</td>\n",
              "      <td>The feedback from the TA was It is \"LIMIT 3\" n...</td>\n",
              "    </tr>\n",
              "    <tr>\n",
              "      <th>3</th>\n",
              "      <td>Databases for Business Analytics, Winter 2023</td>\n",
              "      <td>251,683</td>\n",
              "      <td>Final Exam</td>\n",
              "      <td>283,453</td>\n",
              "      <td>1</td>\n",
              "      <td>4,969,710</td>\n",
              "      <td>For every customer in the database list the nu...</td>\n",
              "      <td>Long Answer Question</td>\n",
              "      <td>Select C.CompanyName, C.CustomerID, sum(case w...</td>\n",
              "      <td>10.0</td>\n",
              "      <td>ab3864</td>\n",
              "      <td>NaN</td>\n",
              "      <td>SELECT C.CustomerID, COUNT(O.OrderID) AS order...</td>\n",
              "      <td>True</td>\n",
              "      <td>['northwind', 'flights']</td>\n",
              "      <td>10.0</td>\n",
              "      <td>NaN</td>\n",
              "    </tr>\n",
              "    <tr>\n",
              "      <th>4</th>\n",
              "      <td>Databases for Business Analytics, Winter 2023</td>\n",
              "      <td>251,683</td>\n",
              "      <td>Final Exam</td>\n",
              "      <td>283,453</td>\n",
              "      <td>1</td>\n",
              "      <td>4,969,709</td>\n",
              "      <td>Show the date/time of the first order ever dat...</td>\n",
              "      <td>Long Answer Question</td>\n",
              "      <td>use northwind;\\nSELECT \\n    min(OrderDate) as...</td>\n",
              "      <td>7.5</td>\n",
              "      <td>ab3864</td>\n",
              "      <td>NaN</td>\n",
              "      <td>SELECT MIN(OrderDate) AS earliestOrderDate\\nFR...</td>\n",
              "      <td>True</td>\n",
              "      <td>['northwind', 'flights']</td>\n",
              "      <td>7.5</td>\n",
              "      <td>NaN</td>\n",
              "    </tr>\n",
              "  </tbody>\n",
              "</table>\n",
              "</div>\n",
              "      <button class=\"colab-df-convert\" onclick=\"convertToInteractive('df-6707d7c3-f80f-48ae-bc0c-4bf21002e520')\"\n",
              "              title=\"Convert this dataframe to an interactive table.\"\n",
              "              style=\"display:none;\">\n",
              "        \n",
              "  <svg xmlns=\"http://www.w3.org/2000/svg\" height=\"24px\"viewBox=\"0 0 24 24\"\n",
              "       width=\"24px\">\n",
              "    <path d=\"M0 0h24v24H0V0z\" fill=\"none\"/>\n",
              "    <path d=\"M18.56 5.44l.94 2.06.94-2.06 2.06-.94-2.06-.94-.94-2.06-.94 2.06-2.06.94zm-11 1L8.5 8.5l.94-2.06 2.06-.94-2.06-.94L8.5 2.5l-.94 2.06-2.06.94zm10 10l.94 2.06.94-2.06 2.06-.94-2.06-.94-.94-2.06-.94 2.06-2.06.94z\"/><path d=\"M17.41 7.96l-1.37-1.37c-.4-.4-.92-.59-1.43-.59-.52 0-1.04.2-1.43.59L10.3 9.45l-7.72 7.72c-.78.78-.78 2.05 0 2.83L4 21.41c.39.39.9.59 1.41.59.51 0 1.02-.2 1.41-.59l7.78-7.78 2.81-2.81c.8-.78.8-2.07 0-2.86zM5.41 20L4 18.59l7.72-7.72 1.47 1.35L5.41 20z\"/>\n",
              "  </svg>\n",
              "      </button>\n",
              "      \n",
              "  <style>\n",
              "    .colab-df-container {\n",
              "      display:flex;\n",
              "      flex-wrap:wrap;\n",
              "      gap: 12px;\n",
              "    }\n",
              "\n",
              "    .colab-df-convert {\n",
              "      background-color: #E8F0FE;\n",
              "      border: none;\n",
              "      border-radius: 50%;\n",
              "      cursor: pointer;\n",
              "      display: none;\n",
              "      fill: #1967D2;\n",
              "      height: 32px;\n",
              "      padding: 0 0 0 0;\n",
              "      width: 32px;\n",
              "    }\n",
              "\n",
              "    .colab-df-convert:hover {\n",
              "      background-color: #E2EBFA;\n",
              "      box-shadow: 0px 1px 2px rgba(60, 64, 67, 0.3), 0px 1px 3px 1px rgba(60, 64, 67, 0.15);\n",
              "      fill: #174EA6;\n",
              "    }\n",
              "\n",
              "    [theme=dark] .colab-df-convert {\n",
              "      background-color: #3B4455;\n",
              "      fill: #D2E3FC;\n",
              "    }\n",
              "\n",
              "    [theme=dark] .colab-df-convert:hover {\n",
              "      background-color: #434B5C;\n",
              "      box-shadow: 0px 1px 3px 1px rgba(0, 0, 0, 0.15);\n",
              "      filter: drop-shadow(0px 1px 2px rgba(0, 0, 0, 0.3));\n",
              "      fill: #FFFFFF;\n",
              "    }\n",
              "  </style>\n",
              "\n",
              "      <script>\n",
              "        const buttonEl =\n",
              "          document.querySelector('#df-6707d7c3-f80f-48ae-bc0c-4bf21002e520 button.colab-df-convert');\n",
              "        buttonEl.style.display =\n",
              "          google.colab.kernel.accessAllowed ? 'block' : 'none';\n",
              "\n",
              "        async function convertToInteractive(key) {\n",
              "          const element = document.querySelector('#df-6707d7c3-f80f-48ae-bc0c-4bf21002e520');\n",
              "          const dataTable =\n",
              "            await google.colab.kernel.invokeFunction('convertToInteractive',\n",
              "                                                     [key], {});\n",
              "          if (!dataTable) return;\n",
              "\n",
              "          const docLinkHtml = 'Like what you see? Visit the ' +\n",
              "            '<a target=\"_blank\" href=https://colab.research.google.com/notebooks/data_table.ipynb>data table notebook</a>'\n",
              "            + ' to learn more about interactive tables.';\n",
              "          element.innerHTML = '';\n",
              "          dataTable['output_type'] = 'display_data';\n",
              "          await google.colab.output.renderOutput(dataTable, element);\n",
              "          const docLink = document.createElement('div');\n",
              "          docLink.innerHTML = docLinkHtml;\n",
              "          element.appendChild(docLink);\n",
              "        }\n",
              "      </script>\n",
              "    </div>\n",
              "  </div>\n",
              "  "
            ]
          },
          "metadata": {},
          "execution_count": 7
        }
      ]
    },
    {
      "cell_type": "markdown",
      "source": [
        "## Table Schemas"
      ],
      "metadata": {
        "id": "SD8X_zr3pfBX"
      }
    },
    {
      "cell_type": "code",
      "source": [
        "from sqlalchemy import create_engine\n",
        "from sqlalchemy import text"
      ],
      "metadata": {
        "id": "pSzebBQ9-Rqj"
      },
      "execution_count": 8,
      "outputs": []
    },
    {
      "cell_type": "code",
      "source": [
        "db_list = ['flights', 'imdb', 'music', 'restaurants', 'facebook', 'northwind', 'collisions']\n",
        "\n",
        "def db_schema(db_name):\n",
        "  conn_string = 'mysql+pymysql://{user}:{password}@{host}/{db}?charset=utf8mb4'.format(\n",
        "    host = 'db.ipeirotis.org',\n",
        "    user = 'student',\n",
        "    password = 'dwdstudent2015',\n",
        "    db = db_name,\n",
        "    encoding = 'utf8mb4')\n",
        "  engine = create_engine(conn_string)\n",
        "\n",
        "  with engine.begin() as conn:\n",
        "    tables = pd.read_sql_query(sql=text('show tables'), con=conn)\n",
        "    tables = tables.iloc[:,-1].tolist()\n",
        "\n",
        "    schema_list = []\n",
        "    for t in tables:\n",
        "      d = pd.read_sql_query(sql=text(f'describe {t}'), con=conn)\n",
        "      table_schema = {t:d.loc[:,'Field'].tolist()}\n",
        "      schema_list.append(table_schema)\n",
        "  return schema_list"
      ],
      "metadata": {
        "id": "CsHX3CQF-5Hx"
      },
      "execution_count": 9,
      "outputs": []
    },
    {
      "cell_type": "code",
      "source": [
        "flights_schema = db_schema('flights')\n",
        "imdb_schema = db_schema('imdb')\n",
        "music_schema = db_schema('music')\n",
        "restaurants_schema = db_schema('restaurants')\n",
        "facebook_schema = db_schema('facebook')\n",
        "northwind_schema = db_schema('northwind')\n",
        "collisions_schema = db_schema('collisions')\n",
        "\n",
        "print(facebook_schema)"
      ],
      "metadata": {
        "colab": {
          "base_uri": "https://localhost:8080/"
        },
        "id": "Ocv2TQ7U-Rtz",
        "outputId": "7c0b2626-24e5-461e-ce28-a4a2c744195c"
      },
      "execution_count": 10,
      "outputs": [
        {
          "output_type": "stream",
          "name": "stdout",
          "text": [
            "[{'Concentration': ['ProfileID', 'Concentration']}, {'FavoriteBooks': ['ProfileID', 'Book']}, {'FavoriteMovies': ['ProfileID', 'Movie']}, {'FavoriteMusic': ['ProfileID', 'Music']}, {'FavoriteTVShows': ['ProfileID', 'TVShow']}, {'Hobbies': ['ProfileID', 'Hobby']}, {'LookingFor': ['ProfileID', 'LookingFor']}, {'Orientation': ['ProfileID', 'InterestedIn']}, {'Profiles': ['ProfileID', 'Name', 'MemberSince', 'LastUpdate', 'School', 'Status', 'Sex', 'Birthday', 'AIM', 'Website', 'PoliticalViews', 'Geography', 'HighSchool', 'HomeTown', 'HomeState', 'Residence', 'CurrentAddress', 'CurrentTown', 'CurrentState']}, {'Relationship': ['ProfileID', 'Status']}, {'chart': ['music', 'gender', 'cnt', 'music_rank']}, {'popular_music': ['music', 'cnt']}, {'popular_music_by_sex': ['music', 'gender', 'cnt']}]\n"
          ]
        }
      ]
    },
    {
      "cell_type": "code",
      "source": [
        "schema_mapping = {\n",
        "    'flights': flights_schema,\n",
        "    'imdb': imdb_schema,\n",
        "    'music': music_schema,\n",
        "    'restaurants': restaurants_schema,\n",
        "    'facebook': facebook_schema,\n",
        "    'northwind': northwind_schema,\n",
        "    'collisions': collisions_schema,\n",
        "    \"['northwind', 'flights']\": [northwind_schema, flights_schema]\n",
        "}\n"
      ],
      "metadata": {
        "id": "Km2nCEstFabH"
      },
      "execution_count": 11,
      "outputs": []
    },
    {
      "cell_type": "code",
      "source": [
        "# # print(schema_fun(['northwind', 'flights']))\n",
        "# import re\n",
        "# def convert_to_list(string):\n",
        "#     # Remove the square brackets and extra spaces\n",
        "#     cleaned_string = re.sub(r'\\[|\\]', '', string).strip()\n",
        "#     # Split the string into individual elements\n",
        "#     elements = [elem.strip() for elem in cleaned_string.split(',')]\n",
        "#     # Return the converted list\n",
        "#     return elements"
      ],
      "metadata": {
        "id": "LRCDc304ACQB"
      },
      "execution_count": null,
      "outputs": []
    },
    {
      "cell_type": "code",
      "source": [
        "# def schema_fun(db):\n",
        "#   if isinstance(db, list):\n",
        "#     # schema_list = []\n",
        "#     # for name in db:\n",
        "#     #   schema_list.append(db_schema(name))\n",
        "#     # return schema_list\n",
        "#     return [db_schema(name) for name in db]\n",
        "#   else:\n",
        "#     return db_schema(db)"
      ],
      "metadata": {
        "id": "10Ewguzg_rhs"
      },
      "execution_count": null,
      "outputs": []
    },
    {
      "cell_type": "code",
      "source": [
        "data['schema'] = data['Database'].map(schema_mapping)\n",
        "data.head()"
      ],
      "metadata": {
        "colab": {
          "base_uri": "https://localhost:8080/",
          "height": 773
        },
        "id": "c_dYEFof-RzR",
        "outputId": "f39b3f23-4a1e-4c4b-892f-2823826d912e"
      },
      "execution_count": 12,
      "outputs": [
        {
          "output_type": "execute_result",
          "data": {
            "text/plain": [
              "                              BSpace Course Name BSpace Course Id    QuizName  \\\n",
              "0  Databases for Business Analytics, Winter 2023          251,683  Final Exam   \n",
              "1  Databases for Business Analytics, Winter 2023          251,683  Final Exam   \n",
              "2  Databases for Business Analytics, Winter 2023          251,683  Final Exam   \n",
              "3  Databases for Business Analytics, Winter 2023          251,683  Final Exam   \n",
              "4  Databases for Business Analytics, Winter 2023          251,683  Final Exam   \n",
              "\n",
              "   ﻿QuizId  QuizAttemptNumber QuestionId  \\\n",
              "0  283,453                  1  4,969,729   \n",
              "1  283,453                  1  4,969,713   \n",
              "2  283,453                  1  4,969,711   \n",
              "3  283,453                  1  4,969,710   \n",
              "4  283,453                  1  4,969,709   \n",
              "\n",
              "                                            Question          QuestionType  \\\n",
              "0  Hard question. Requires use of subqueries and ...  Long Answer Question   \n",
              "1  For each order, show the customerID who placed...  Long Answer Question   \n",
              "2  We want to identify the ship countries with th...  Long Answer Question   \n",
              "3  For every customer in the database list the nu...  Long Answer Question   \n",
              "4  Show the date/time of the first order ever dat...  Long Answer Question   \n",
              "\n",
              "                                     InputUserAnswer  Score   NetId  \\\n",
              "0  SELECT \\n    A.CustomerID,\\n    A.CompanyName,...   10.0  ab3864   \n",
              "1   Select O.OrderID, O.CustomerID, Count(D.Produ...    5.5  ab3864   \n",
              "2  use northwind;\\nSELECT \\n    ShipCountry, AVG(...    7.0  ab3864   \n",
              "3  Select C.CompanyName, C.CustomerID, sum(case w...   10.0  ab3864   \n",
              "4  use northwind;\\nSELECT \\n    min(OrderDate) as...    7.5  ab3864   \n",
              "\n",
              "                       Comment left on User Response  \\\n",
              "0  Results for identical to the answer key becaus...   \n",
              "1  -3 pts for lack for HAVING\\n-1 pts for using t...   \n",
              "2                    It is \"LIMIT 3\" not \"LIMIT = 3\"   \n",
              "3                                                NaN   \n",
              "4                                                NaN   \n",
              "\n",
              "                                           AnswerKey  isQuery  \\\n",
              "0  WITH total_spent AS (\\nSELECT C.CustomerID, C....     True   \n",
              "1  SELECT O.OrderID, O.CustomerID\\n&#160; &#160; ...     True   \n",
              "2  SELECT ShipCountry, ROUND(AVG(Freight),2) AS A...     True   \n",
              "3  SELECT C.CustomerID, COUNT(O.OrderID) AS order...     True   \n",
              "4  SELECT MIN(OrderDate) AS earliestOrderDate\\nFR...     True   \n",
              "\n",
              "                   Database  full_score  \\\n",
              "0  ['northwind', 'flights']        10.0   \n",
              "1  ['northwind', 'flights']        10.0   \n",
              "2  ['northwind', 'flights']         7.5   \n",
              "3  ['northwind', 'flights']        10.0   \n",
              "4  ['northwind', 'flights']         7.5   \n",
              "\n",
              "                                            feedback  \\\n",
              "0  The feedback from the TA was Results for ident...   \n",
              "1  The feedback from the TA was -3 pts for lack f...   \n",
              "2  The feedback from the TA was It is \"LIMIT 3\" n...   \n",
              "3                                                NaN   \n",
              "4                                                NaN   \n",
              "\n",
              "                                              schema  \n",
              "0  [[{'Categories': ['CategoryID', 'CategoryName'...  \n",
              "1  [[{'Categories': ['CategoryID', 'CategoryName'...  \n",
              "2  [[{'Categories': ['CategoryID', 'CategoryName'...  \n",
              "3  [[{'Categories': ['CategoryID', 'CategoryName'...  \n",
              "4  [[{'Categories': ['CategoryID', 'CategoryName'...  "
            ],
            "text/html": [
              "\n",
              "  <div id=\"df-641b50b7-40f3-48e5-94f2-c50c3fce4fcc\">\n",
              "    <div class=\"colab-df-container\">\n",
              "      <div>\n",
              "<style scoped>\n",
              "    .dataframe tbody tr th:only-of-type {\n",
              "        vertical-align: middle;\n",
              "    }\n",
              "\n",
              "    .dataframe tbody tr th {\n",
              "        vertical-align: top;\n",
              "    }\n",
              "\n",
              "    .dataframe thead th {\n",
              "        text-align: right;\n",
              "    }\n",
              "</style>\n",
              "<table border=\"1\" class=\"dataframe\">\n",
              "  <thead>\n",
              "    <tr style=\"text-align: right;\">\n",
              "      <th></th>\n",
              "      <th>BSpace Course Name</th>\n",
              "      <th>BSpace Course Id</th>\n",
              "      <th>QuizName</th>\n",
              "      <th>﻿QuizId</th>\n",
              "      <th>QuizAttemptNumber</th>\n",
              "      <th>QuestionId</th>\n",
              "      <th>Question</th>\n",
              "      <th>QuestionType</th>\n",
              "      <th>InputUserAnswer</th>\n",
              "      <th>Score</th>\n",
              "      <th>NetId</th>\n",
              "      <th>Comment left on User Response</th>\n",
              "      <th>AnswerKey</th>\n",
              "      <th>isQuery</th>\n",
              "      <th>Database</th>\n",
              "      <th>full_score</th>\n",
              "      <th>feedback</th>\n",
              "      <th>schema</th>\n",
              "    </tr>\n",
              "  </thead>\n",
              "  <tbody>\n",
              "    <tr>\n",
              "      <th>0</th>\n",
              "      <td>Databases for Business Analytics, Winter 2023</td>\n",
              "      <td>251,683</td>\n",
              "      <td>Final Exam</td>\n",
              "      <td>283,453</td>\n",
              "      <td>1</td>\n",
              "      <td>4,969,729</td>\n",
              "      <td>Hard question. Requires use of subqueries and ...</td>\n",
              "      <td>Long Answer Question</td>\n",
              "      <td>SELECT \\n    A.CustomerID,\\n    A.CompanyName,...</td>\n",
              "      <td>10.0</td>\n",
              "      <td>ab3864</td>\n",
              "      <td>Results for identical to the answer key becaus...</td>\n",
              "      <td>WITH total_spent AS (\\nSELECT C.CustomerID, C....</td>\n",
              "      <td>True</td>\n",
              "      <td>['northwind', 'flights']</td>\n",
              "      <td>10.0</td>\n",
              "      <td>The feedback from the TA was Results for ident...</td>\n",
              "      <td>[[{'Categories': ['CategoryID', 'CategoryName'...</td>\n",
              "    </tr>\n",
              "    <tr>\n",
              "      <th>1</th>\n",
              "      <td>Databases for Business Analytics, Winter 2023</td>\n",
              "      <td>251,683</td>\n",
              "      <td>Final Exam</td>\n",
              "      <td>283,453</td>\n",
              "      <td>1</td>\n",
              "      <td>4,969,713</td>\n",
              "      <td>For each order, show the customerID who placed...</td>\n",
              "      <td>Long Answer Question</td>\n",
              "      <td>Select O.OrderID, O.CustomerID, Count(D.Produ...</td>\n",
              "      <td>5.5</td>\n",
              "      <td>ab3864</td>\n",
              "      <td>-3 pts for lack for HAVING\\n-1 pts for using t...</td>\n",
              "      <td>SELECT O.OrderID, O.CustomerID\\n&amp;#160; &amp;#160; ...</td>\n",
              "      <td>True</td>\n",
              "      <td>['northwind', 'flights']</td>\n",
              "      <td>10.0</td>\n",
              "      <td>The feedback from the TA was -3 pts for lack f...</td>\n",
              "      <td>[[{'Categories': ['CategoryID', 'CategoryName'...</td>\n",
              "    </tr>\n",
              "    <tr>\n",
              "      <th>2</th>\n",
              "      <td>Databases for Business Analytics, Winter 2023</td>\n",
              "      <td>251,683</td>\n",
              "      <td>Final Exam</td>\n",
              "      <td>283,453</td>\n",
              "      <td>1</td>\n",
              "      <td>4,969,711</td>\n",
              "      <td>We want to identify the ship countries with th...</td>\n",
              "      <td>Long Answer Question</td>\n",
              "      <td>use northwind;\\nSELECT \\n    ShipCountry, AVG(...</td>\n",
              "      <td>7.0</td>\n",
              "      <td>ab3864</td>\n",
              "      <td>It is \"LIMIT 3\" not \"LIMIT = 3\"</td>\n",
              "      <td>SELECT ShipCountry, ROUND(AVG(Freight),2) AS A...</td>\n",
              "      <td>True</td>\n",
              "      <td>['northwind', 'flights']</td>\n",
              "      <td>7.5</td>\n",
              "      <td>The feedback from the TA was It is \"LIMIT 3\" n...</td>\n",
              "      <td>[[{'Categories': ['CategoryID', 'CategoryName'...</td>\n",
              "    </tr>\n",
              "    <tr>\n",
              "      <th>3</th>\n",
              "      <td>Databases for Business Analytics, Winter 2023</td>\n",
              "      <td>251,683</td>\n",
              "      <td>Final Exam</td>\n",
              "      <td>283,453</td>\n",
              "      <td>1</td>\n",
              "      <td>4,969,710</td>\n",
              "      <td>For every customer in the database list the nu...</td>\n",
              "      <td>Long Answer Question</td>\n",
              "      <td>Select C.CompanyName, C.CustomerID, sum(case w...</td>\n",
              "      <td>10.0</td>\n",
              "      <td>ab3864</td>\n",
              "      <td>NaN</td>\n",
              "      <td>SELECT C.CustomerID, COUNT(O.OrderID) AS order...</td>\n",
              "      <td>True</td>\n",
              "      <td>['northwind', 'flights']</td>\n",
              "      <td>10.0</td>\n",
              "      <td>NaN</td>\n",
              "      <td>[[{'Categories': ['CategoryID', 'CategoryName'...</td>\n",
              "    </tr>\n",
              "    <tr>\n",
              "      <th>4</th>\n",
              "      <td>Databases for Business Analytics, Winter 2023</td>\n",
              "      <td>251,683</td>\n",
              "      <td>Final Exam</td>\n",
              "      <td>283,453</td>\n",
              "      <td>1</td>\n",
              "      <td>4,969,709</td>\n",
              "      <td>Show the date/time of the first order ever dat...</td>\n",
              "      <td>Long Answer Question</td>\n",
              "      <td>use northwind;\\nSELECT \\n    min(OrderDate) as...</td>\n",
              "      <td>7.5</td>\n",
              "      <td>ab3864</td>\n",
              "      <td>NaN</td>\n",
              "      <td>SELECT MIN(OrderDate) AS earliestOrderDate\\nFR...</td>\n",
              "      <td>True</td>\n",
              "      <td>['northwind', 'flights']</td>\n",
              "      <td>7.5</td>\n",
              "      <td>NaN</td>\n",
              "      <td>[[{'Categories': ['CategoryID', 'CategoryName'...</td>\n",
              "    </tr>\n",
              "  </tbody>\n",
              "</table>\n",
              "</div>\n",
              "      <button class=\"colab-df-convert\" onclick=\"convertToInteractive('df-641b50b7-40f3-48e5-94f2-c50c3fce4fcc')\"\n",
              "              title=\"Convert this dataframe to an interactive table.\"\n",
              "              style=\"display:none;\">\n",
              "        \n",
              "  <svg xmlns=\"http://www.w3.org/2000/svg\" height=\"24px\"viewBox=\"0 0 24 24\"\n",
              "       width=\"24px\">\n",
              "    <path d=\"M0 0h24v24H0V0z\" fill=\"none\"/>\n",
              "    <path d=\"M18.56 5.44l.94 2.06.94-2.06 2.06-.94-2.06-.94-.94-2.06-.94 2.06-2.06.94zm-11 1L8.5 8.5l.94-2.06 2.06-.94-2.06-.94L8.5 2.5l-.94 2.06-2.06.94zm10 10l.94 2.06.94-2.06 2.06-.94-2.06-.94-.94-2.06-.94 2.06-2.06.94z\"/><path d=\"M17.41 7.96l-1.37-1.37c-.4-.4-.92-.59-1.43-.59-.52 0-1.04.2-1.43.59L10.3 9.45l-7.72 7.72c-.78.78-.78 2.05 0 2.83L4 21.41c.39.39.9.59 1.41.59.51 0 1.02-.2 1.41-.59l7.78-7.78 2.81-2.81c.8-.78.8-2.07 0-2.86zM5.41 20L4 18.59l7.72-7.72 1.47 1.35L5.41 20z\"/>\n",
              "  </svg>\n",
              "      </button>\n",
              "      \n",
              "  <style>\n",
              "    .colab-df-container {\n",
              "      display:flex;\n",
              "      flex-wrap:wrap;\n",
              "      gap: 12px;\n",
              "    }\n",
              "\n",
              "    .colab-df-convert {\n",
              "      background-color: #E8F0FE;\n",
              "      border: none;\n",
              "      border-radius: 50%;\n",
              "      cursor: pointer;\n",
              "      display: none;\n",
              "      fill: #1967D2;\n",
              "      height: 32px;\n",
              "      padding: 0 0 0 0;\n",
              "      width: 32px;\n",
              "    }\n",
              "\n",
              "    .colab-df-convert:hover {\n",
              "      background-color: #E2EBFA;\n",
              "      box-shadow: 0px 1px 2px rgba(60, 64, 67, 0.3), 0px 1px 3px 1px rgba(60, 64, 67, 0.15);\n",
              "      fill: #174EA6;\n",
              "    }\n",
              "\n",
              "    [theme=dark] .colab-df-convert {\n",
              "      background-color: #3B4455;\n",
              "      fill: #D2E3FC;\n",
              "    }\n",
              "\n",
              "    [theme=dark] .colab-df-convert:hover {\n",
              "      background-color: #434B5C;\n",
              "      box-shadow: 0px 1px 3px 1px rgba(0, 0, 0, 0.15);\n",
              "      filter: drop-shadow(0px 1px 2px rgba(0, 0, 0, 0.3));\n",
              "      fill: #FFFFFF;\n",
              "    }\n",
              "  </style>\n",
              "\n",
              "      <script>\n",
              "        const buttonEl =\n",
              "          document.querySelector('#df-641b50b7-40f3-48e5-94f2-c50c3fce4fcc button.colab-df-convert');\n",
              "        buttonEl.style.display =\n",
              "          google.colab.kernel.accessAllowed ? 'block' : 'none';\n",
              "\n",
              "        async function convertToInteractive(key) {\n",
              "          const element = document.querySelector('#df-641b50b7-40f3-48e5-94f2-c50c3fce4fcc');\n",
              "          const dataTable =\n",
              "            await google.colab.kernel.invokeFunction('convertToInteractive',\n",
              "                                                     [key], {});\n",
              "          if (!dataTable) return;\n",
              "\n",
              "          const docLinkHtml = 'Like what you see? Visit the ' +\n",
              "            '<a target=\"_blank\" href=https://colab.research.google.com/notebooks/data_table.ipynb>data table notebook</a>'\n",
              "            + ' to learn more about interactive tables.';\n",
              "          element.innerHTML = '';\n",
              "          dataTable['output_type'] = 'display_data';\n",
              "          await google.colab.output.renderOutput(dataTable, element);\n",
              "          const docLink = document.createElement('div');\n",
              "          docLink.innerHTML = docLinkHtml;\n",
              "          element.appendChild(docLink);\n",
              "        }\n",
              "      </script>\n",
              "    </div>\n",
              "  </div>\n",
              "  "
            ]
          },
          "metadata": {},
          "execution_count": 12
        }
      ]
    },
    {
      "cell_type": "code",
      "source": [
        "data = data.replace('&nbsp;', ' ', regex=True)\n",
        "data = data.replace('&#160;', ' ', regex=True)"
      ],
      "metadata": {
        "id": "RcQZQjkInp2e"
      },
      "execution_count": 13,
      "outputs": []
    },
    {
      "cell_type": "markdown",
      "source": [
        "## Group questions"
      ],
      "metadata": {
        "id": "Dvl9i8Lkk0fy"
      }
    },
    {
      "cell_type": "code",
      "source": [
        "from sklearn.model_selection import train_test_split"
      ],
      "metadata": {
        "id": "FYzZlsa_lfV7"
      },
      "execution_count": 14,
      "outputs": []
    },
    {
      "cell_type": "code",
      "source": [
        "# train_df, test_df = train_test_split(data, test_size=0.2, stratify=data['QuestionId'], random_state=1234)"
      ],
      "metadata": {
        "id": "6VPyCd7nlYjq"
      },
      "execution_count": null,
      "outputs": []
    },
    {
      "cell_type": "code",
      "source": [
        "df = data[data['QuestionId']=='5,119,721']\n",
        "df.head()"
      ],
      "metadata": {
        "colab": {
          "base_uri": "https://localhost:8080/",
          "height": 686
        },
        "id": "_nKfyEjck3tG",
        "outputId": "06065c6f-6823-4af4-8485-3cb1ef385ad0"
      },
      "execution_count": 15,
      "outputs": [
        {
          "output_type": "execute_result",
          "data": {
            "text/plain": [
              "                              BSpace Course Name BSpace Course Id  \\\n",
              "158  Databases for Business Analytics, Spring'23          251,685   \n",
              "219  Databases for Business Analytics, Spring'23          251,685   \n",
              "289  Databases for Business Analytics, MSQM SU23          277,478   \n",
              "332  Databases for Business Analytics, MSQM SU23          277,478   \n",
              "420  Databases for Business Analytics, Spring'23          251,685   \n",
              "\n",
              "                QuizName  ﻿QuizId  QuizAttemptNumber QuestionId  \\\n",
              "158  Assignment 3: Joins  295,367                  1  5,119,721   \n",
              "219  Assignment 3: Joins  295,367                  1  5,119,721   \n",
              "289  Assignment 3: Joins  301,296                  1  5,119,721   \n",
              "332  Assignment 3: Joins  301,296                  1  5,119,721   \n",
              "420  Assignment 3: Joins  295,367                  1  5,119,721   \n",
              "\n",
              "                                              Question          QuestionType  \\\n",
              "158  List all the track names, the corresponding al...  Long Answer Question   \n",
              "219  List all the track names, the corresponding al...  Long Answer Question   \n",
              "289  List all the track names, the corresponding al...  Long Answer Question   \n",
              "332  List all the track names, the corresponding al...  Long Answer Question   \n",
              "420  List all the track names, the corresponding al...  Long Answer Question   \n",
              "\n",
              "                                       InputUserAnswer  Score   NetId  \\\n",
              "158  select T.track_name, L.album_name, a.artist_na...    1.0  my2204   \n",
              "219  SELECT track_name, artist_name, album_name\\nFR...    0.5  ql2084   \n",
              "289  USE music;\\nSHOW tables;\\nSELECT track_name, a...    1.0  soj206   \n",
              "332  SELECT T.track_name, A1.artist_name, A2.album_...    0.7  pp1711   \n",
              "420  Select T.track_name, L.album_name, A.artist_na...    1.0  sek495   \n",
              "\n",
              "                         Comment left on User Response  \\\n",
              "158                                                NaN   \n",
              "219                                                NaN   \n",
              "289                                                NaN   \n",
              "332  \\n\\n\\nAnswer Key\\n\\n\\n\\n\\n\\n\\n\\nSELECT track_n...   \n",
              "420                                                NaN   \n",
              "\n",
              "                                             AnswerKey  isQuery Database  \\\n",
              "158  SELECT track_name, artist_name, album_name\\nFR...     True    music   \n",
              "219  SELECT track_name, artist_name, album_name\\nFR...     True    music   \n",
              "289  SELECT track_name, artist_name, album_name\\nFR...     True    music   \n",
              "332  SELECT track_name, artist_name, album_name\\nFR...     True    music   \n",
              "420  SELECT track_name, artist_name, album_name\\nFR...     True    music   \n",
              "\n",
              "     full_score                                           feedback  \\\n",
              "158         1.0                                                NaN   \n",
              "219         1.0                                                NaN   \n",
              "289         1.0                                                NaN   \n",
              "332         1.0  The feedback from the TA was \\n\\n\\nAnswer Key\\...   \n",
              "420         1.0                                                NaN   \n",
              "\n",
              "                                                schema  \n",
              "158  [{'album': ['artist_id', 'album_id', 'album_na...  \n",
              "219  [{'album': ['artist_id', 'album_id', 'album_na...  \n",
              "289  [{'album': ['artist_id', 'album_id', 'album_na...  \n",
              "332  [{'album': ['artist_id', 'album_id', 'album_na...  \n",
              "420  [{'album': ['artist_id', 'album_id', 'album_na...  "
            ],
            "text/html": [
              "\n",
              "  <div id=\"df-8d7fdedc-facd-41e7-8643-98fef44d63d9\">\n",
              "    <div class=\"colab-df-container\">\n",
              "      <div>\n",
              "<style scoped>\n",
              "    .dataframe tbody tr th:only-of-type {\n",
              "        vertical-align: middle;\n",
              "    }\n",
              "\n",
              "    .dataframe tbody tr th {\n",
              "        vertical-align: top;\n",
              "    }\n",
              "\n",
              "    .dataframe thead th {\n",
              "        text-align: right;\n",
              "    }\n",
              "</style>\n",
              "<table border=\"1\" class=\"dataframe\">\n",
              "  <thead>\n",
              "    <tr style=\"text-align: right;\">\n",
              "      <th></th>\n",
              "      <th>BSpace Course Name</th>\n",
              "      <th>BSpace Course Id</th>\n",
              "      <th>QuizName</th>\n",
              "      <th>﻿QuizId</th>\n",
              "      <th>QuizAttemptNumber</th>\n",
              "      <th>QuestionId</th>\n",
              "      <th>Question</th>\n",
              "      <th>QuestionType</th>\n",
              "      <th>InputUserAnswer</th>\n",
              "      <th>Score</th>\n",
              "      <th>NetId</th>\n",
              "      <th>Comment left on User Response</th>\n",
              "      <th>AnswerKey</th>\n",
              "      <th>isQuery</th>\n",
              "      <th>Database</th>\n",
              "      <th>full_score</th>\n",
              "      <th>feedback</th>\n",
              "      <th>schema</th>\n",
              "    </tr>\n",
              "  </thead>\n",
              "  <tbody>\n",
              "    <tr>\n",
              "      <th>158</th>\n",
              "      <td>Databases for Business Analytics, Spring'23</td>\n",
              "      <td>251,685</td>\n",
              "      <td>Assignment 3: Joins</td>\n",
              "      <td>295,367</td>\n",
              "      <td>1</td>\n",
              "      <td>5,119,721</td>\n",
              "      <td>List all the track names, the corresponding al...</td>\n",
              "      <td>Long Answer Question</td>\n",
              "      <td>select T.track_name, L.album_name, a.artist_na...</td>\n",
              "      <td>1.0</td>\n",
              "      <td>my2204</td>\n",
              "      <td>NaN</td>\n",
              "      <td>SELECT track_name, artist_name, album_name\\nFR...</td>\n",
              "      <td>True</td>\n",
              "      <td>music</td>\n",
              "      <td>1.0</td>\n",
              "      <td>NaN</td>\n",
              "      <td>[{'album': ['artist_id', 'album_id', 'album_na...</td>\n",
              "    </tr>\n",
              "    <tr>\n",
              "      <th>219</th>\n",
              "      <td>Databases for Business Analytics, Spring'23</td>\n",
              "      <td>251,685</td>\n",
              "      <td>Assignment 3: Joins</td>\n",
              "      <td>295,367</td>\n",
              "      <td>1</td>\n",
              "      <td>5,119,721</td>\n",
              "      <td>List all the track names, the corresponding al...</td>\n",
              "      <td>Long Answer Question</td>\n",
              "      <td>SELECT track_name, artist_name, album_name\\nFR...</td>\n",
              "      <td>0.5</td>\n",
              "      <td>ql2084</td>\n",
              "      <td>NaN</td>\n",
              "      <td>SELECT track_name, artist_name, album_name\\nFR...</td>\n",
              "      <td>True</td>\n",
              "      <td>music</td>\n",
              "      <td>1.0</td>\n",
              "      <td>NaN</td>\n",
              "      <td>[{'album': ['artist_id', 'album_id', 'album_na...</td>\n",
              "    </tr>\n",
              "    <tr>\n",
              "      <th>289</th>\n",
              "      <td>Databases for Business Analytics, MSQM SU23</td>\n",
              "      <td>277,478</td>\n",
              "      <td>Assignment 3: Joins</td>\n",
              "      <td>301,296</td>\n",
              "      <td>1</td>\n",
              "      <td>5,119,721</td>\n",
              "      <td>List all the track names, the corresponding al...</td>\n",
              "      <td>Long Answer Question</td>\n",
              "      <td>USE music;\\nSHOW tables;\\nSELECT track_name, a...</td>\n",
              "      <td>1.0</td>\n",
              "      <td>soj206</td>\n",
              "      <td>NaN</td>\n",
              "      <td>SELECT track_name, artist_name, album_name\\nFR...</td>\n",
              "      <td>True</td>\n",
              "      <td>music</td>\n",
              "      <td>1.0</td>\n",
              "      <td>NaN</td>\n",
              "      <td>[{'album': ['artist_id', 'album_id', 'album_na...</td>\n",
              "    </tr>\n",
              "    <tr>\n",
              "      <th>332</th>\n",
              "      <td>Databases for Business Analytics, MSQM SU23</td>\n",
              "      <td>277,478</td>\n",
              "      <td>Assignment 3: Joins</td>\n",
              "      <td>301,296</td>\n",
              "      <td>1</td>\n",
              "      <td>5,119,721</td>\n",
              "      <td>List all the track names, the corresponding al...</td>\n",
              "      <td>Long Answer Question</td>\n",
              "      <td>SELECT T.track_name, A1.artist_name, A2.album_...</td>\n",
              "      <td>0.7</td>\n",
              "      <td>pp1711</td>\n",
              "      <td>\\n\\n\\nAnswer Key\\n\\n\\n\\n\\n\\n\\n\\nSELECT track_n...</td>\n",
              "      <td>SELECT track_name, artist_name, album_name\\nFR...</td>\n",
              "      <td>True</td>\n",
              "      <td>music</td>\n",
              "      <td>1.0</td>\n",
              "      <td>The feedback from the TA was \\n\\n\\nAnswer Key\\...</td>\n",
              "      <td>[{'album': ['artist_id', 'album_id', 'album_na...</td>\n",
              "    </tr>\n",
              "    <tr>\n",
              "      <th>420</th>\n",
              "      <td>Databases for Business Analytics, Spring'23</td>\n",
              "      <td>251,685</td>\n",
              "      <td>Assignment 3: Joins</td>\n",
              "      <td>295,367</td>\n",
              "      <td>1</td>\n",
              "      <td>5,119,721</td>\n",
              "      <td>List all the track names, the corresponding al...</td>\n",
              "      <td>Long Answer Question</td>\n",
              "      <td>Select T.track_name, L.album_name, A.artist_na...</td>\n",
              "      <td>1.0</td>\n",
              "      <td>sek495</td>\n",
              "      <td>NaN</td>\n",
              "      <td>SELECT track_name, artist_name, album_name\\nFR...</td>\n",
              "      <td>True</td>\n",
              "      <td>music</td>\n",
              "      <td>1.0</td>\n",
              "      <td>NaN</td>\n",
              "      <td>[{'album': ['artist_id', 'album_id', 'album_na...</td>\n",
              "    </tr>\n",
              "  </tbody>\n",
              "</table>\n",
              "</div>\n",
              "      <button class=\"colab-df-convert\" onclick=\"convertToInteractive('df-8d7fdedc-facd-41e7-8643-98fef44d63d9')\"\n",
              "              title=\"Convert this dataframe to an interactive table.\"\n",
              "              style=\"display:none;\">\n",
              "        \n",
              "  <svg xmlns=\"http://www.w3.org/2000/svg\" height=\"24px\"viewBox=\"0 0 24 24\"\n",
              "       width=\"24px\">\n",
              "    <path d=\"M0 0h24v24H0V0z\" fill=\"none\"/>\n",
              "    <path d=\"M18.56 5.44l.94 2.06.94-2.06 2.06-.94-2.06-.94-.94-2.06-.94 2.06-2.06.94zm-11 1L8.5 8.5l.94-2.06 2.06-.94-2.06-.94L8.5 2.5l-.94 2.06-2.06.94zm10 10l.94 2.06.94-2.06 2.06-.94-2.06-.94-.94-2.06-.94 2.06-2.06.94z\"/><path d=\"M17.41 7.96l-1.37-1.37c-.4-.4-.92-.59-1.43-.59-.52 0-1.04.2-1.43.59L10.3 9.45l-7.72 7.72c-.78.78-.78 2.05 0 2.83L4 21.41c.39.39.9.59 1.41.59.51 0 1.02-.2 1.41-.59l7.78-7.78 2.81-2.81c.8-.78.8-2.07 0-2.86zM5.41 20L4 18.59l7.72-7.72 1.47 1.35L5.41 20z\"/>\n",
              "  </svg>\n",
              "      </button>\n",
              "      \n",
              "  <style>\n",
              "    .colab-df-container {\n",
              "      display:flex;\n",
              "      flex-wrap:wrap;\n",
              "      gap: 12px;\n",
              "    }\n",
              "\n",
              "    .colab-df-convert {\n",
              "      background-color: #E8F0FE;\n",
              "      border: none;\n",
              "      border-radius: 50%;\n",
              "      cursor: pointer;\n",
              "      display: none;\n",
              "      fill: #1967D2;\n",
              "      height: 32px;\n",
              "      padding: 0 0 0 0;\n",
              "      width: 32px;\n",
              "    }\n",
              "\n",
              "    .colab-df-convert:hover {\n",
              "      background-color: #E2EBFA;\n",
              "      box-shadow: 0px 1px 2px rgba(60, 64, 67, 0.3), 0px 1px 3px 1px rgba(60, 64, 67, 0.15);\n",
              "      fill: #174EA6;\n",
              "    }\n",
              "\n",
              "    [theme=dark] .colab-df-convert {\n",
              "      background-color: #3B4455;\n",
              "      fill: #D2E3FC;\n",
              "    }\n",
              "\n",
              "    [theme=dark] .colab-df-convert:hover {\n",
              "      background-color: #434B5C;\n",
              "      box-shadow: 0px 1px 3px 1px rgba(0, 0, 0, 0.15);\n",
              "      filter: drop-shadow(0px 1px 2px rgba(0, 0, 0, 0.3));\n",
              "      fill: #FFFFFF;\n",
              "    }\n",
              "  </style>\n",
              "\n",
              "      <script>\n",
              "        const buttonEl =\n",
              "          document.querySelector('#df-8d7fdedc-facd-41e7-8643-98fef44d63d9 button.colab-df-convert');\n",
              "        buttonEl.style.display =\n",
              "          google.colab.kernel.accessAllowed ? 'block' : 'none';\n",
              "\n",
              "        async function convertToInteractive(key) {\n",
              "          const element = document.querySelector('#df-8d7fdedc-facd-41e7-8643-98fef44d63d9');\n",
              "          const dataTable =\n",
              "            await google.colab.kernel.invokeFunction('convertToInteractive',\n",
              "                                                     [key], {});\n",
              "          if (!dataTable) return;\n",
              "\n",
              "          const docLinkHtml = 'Like what you see? Visit the ' +\n",
              "            '<a target=\"_blank\" href=https://colab.research.google.com/notebooks/data_table.ipynb>data table notebook</a>'\n",
              "            + ' to learn more about interactive tables.';\n",
              "          element.innerHTML = '';\n",
              "          dataTable['output_type'] = 'display_data';\n",
              "          await google.colab.output.renderOutput(dataTable, element);\n",
              "          const docLink = document.createElement('div');\n",
              "          docLink.innerHTML = docLinkHtml;\n",
              "          element.appendChild(docLink);\n",
              "        }\n",
              "      </script>\n",
              "    </div>\n",
              "  </div>\n",
              "  "
            ]
          },
          "metadata": {},
          "execution_count": 15
        }
      ]
    },
    {
      "cell_type": "code",
      "source": [
        "qids = df['QuestionId'].unique()\n",
        "print(qids)"
      ],
      "metadata": {
        "colab": {
          "base_uri": "https://localhost:8080/"
        },
        "id": "_MaXJLlyk3vo",
        "outputId": "e02eceb6-2074-4bc8-f731-09dca87059b8"
      },
      "execution_count": 16,
      "outputs": [
        {
          "output_type": "stream",
          "name": "stdout",
          "text": [
            "['5,119,721']\n"
          ]
        }
      ]
    },
    {
      "cell_type": "code",
      "source": [
        "for id in qids:\n",
        "  temp = df[df['QuestionId']==id]\n",
        "  # making test size 1\n",
        "  train_df, test_df = train_test_split(temp, test_size=1, random_state=1234)\n",
        "  train_df = train_df.reset_index()\n",
        "  test_df = test_df.reset_index()\n",
        "\n",
        "  submissions = \"\"\n",
        "  for i,row in train_df.iterrows():\n",
        "    submission = row['InputUserAnswer']\n",
        "    grade = row['Score']\n",
        "    full_grade = row['full_score']\n",
        "    feedback = row['feedback']\n",
        "    submissions += f'e{i}. submission: {submission}, grade: {grade}/{full_grade}, feedback: {feedback} \\n\\n'\n",
        "\n",
        "  # print(submissions)\n",
        "  db = train_df.loc[0,'Database']\n",
        "  tables = train_df.loc[0,'schema']\n",
        "  question = train_df.loc[0,'Question']\n",
        "  key = train_df.loc[0,'AnswerKey']\n",
        "\n",
        "  test = test_df.loc[0,'InputUserAnswer']\n",
        "\n",
        "  mega_p = f'''\n",
        "    a. We are working with the {db} database, which has the following tables: {tables}\n",
        "\n",
        "    b. The request to the student is \"{question}\"\n",
        "\n",
        "    c. The model answer is {key} (note that we may have multiple correct answers, the model answer is just an example)\n",
        "\n",
        "    d. The student answer was {test}\n",
        "\n",
        "    e. Previously, students have submitted these answers and got back these responses and grades: \\n{submissions}\n",
        "\n",
        "    Please provide a grade and feedback for the student\n",
        "    '''\n",
        "  print(mega_p)\n",
        "\n",
        "  # try prompt with and without e part (zero & few shot), training set - 1,2,3...\n",
        "  # gpt already knows northwind database\n",
        "  # see what we get back"
      ],
      "metadata": {
        "id": "Jve-5dL-k31T"
      },
      "execution_count": null,
      "outputs": []
    },
    {
      "cell_type": "markdown",
      "source": [
        "## Mega Prompt"
      ],
      "metadata": {
        "id": "hE_SIhzfcjO7"
      }
    },
    {
      "cell_type": "markdown",
      "source": [
        "===============================\n",
        "\n",
        "a. We are working with the XXX database, which has the following tables:\n",
        "artist(id, first_name, last_name)\n",
        "album(id, artist_id, name)\n",
        "track....\n",
        "\n",
        "b. The request to the student is \"Fetch all the tracks for user X\"\n",
        "\n",
        "c. The model answer is ..... (note that we may have multiple correct\n",
        "answers, the model answer is just an example)\n",
        "\n",
        "d. The student answer was .....\n",
        "\n",
        "e. Previously, students have submitted these answers and got back\n",
        "these responses and grades:\n",
        "\n",
        "e1. submission: ..... , grade: ..... , feedback\n",
        "\n",
        "e2. submission: ..... , grade: ..... , feedback\n",
        "\n",
        "e3. submission: ..... , grade: ..... , feedback\n",
        "\n",
        "Please provide a grade and feedback for the student\n",
        "\n",
        "==============================="
      ],
      "metadata": {
        "id": "wbr61YXmghK9"
      }
    },
    {
      "cell_type": "code",
      "source": [
        "# control the submissions number - zero shot / few shots\n",
        "def generate_mega_prompt(df, submission_size):\n",
        "  mega_df = pd.DataFrame(columns=['QuestionId', 'MegaPrompt'])\n",
        "\n",
        "  qids = df['QuestionId'].unique()\n",
        "\n",
        "  for id in qids:\n",
        "    temp = df[df['QuestionId']==id]\n",
        "    # making test size 1\n",
        "    train_df, test_df = train_test_split(temp, test_size=1, random_state=1234)\n",
        "    train_df = train_df.reset_index()\n",
        "    test_df = test_df.reset_index()\n",
        "\n",
        "    submissions = \"\"\n",
        "    for i,row in train_df.iterrows():\n",
        "      if i >= submission_size:\n",
        "        break;\n",
        "      submission = row['InputUserAnswer']\n",
        "      grade = row['Score']\n",
        "      full_grade = row['full_score']\n",
        "      feedback = row['feedback']\n",
        "      submissions += f'e{i}. submission: {submission}, grade: {grade}/{full_grade}, feedback: {feedback} \\n\\n'\n",
        "\n",
        "    # print(submissions)\n",
        "    db = train_df.loc[0,'Database']\n",
        "    tables = train_df.loc[0,'schema']\n",
        "    question = train_df.loc[0,'Question']\n",
        "    key = train_df.loc[0,'AnswerKey']\n",
        "\n",
        "    test = test_df.loc[0,'InputUserAnswer']\n",
        "\n",
        "    mega_p = f'''\n",
        "      a. We are working with the {db} database, which has the following tables: {tables}\n",
        "\n",
        "      b. The request to the student is \"{question}\"\n",
        "\n",
        "      c. The model answer is {key} (note that we may have multiple correct answers, the model answer is just an example)\n",
        "\n",
        "      d. The student answer was {test}\n",
        "\n",
        "      e. Previously, students have submitted these answers and got back these responses and grades: \\n{submissions}\n",
        "\n",
        "      Please provide a grade and feedback for the student\n",
        "      '''\n",
        "    new_row = {'QuestionId': id, 'MegaPrompt': mega_p}\n",
        "\n",
        "    mega_df = mega_df.append(new_row, ignore_index=True)\n",
        "  return mega_df"
      ],
      "metadata": {
        "id": "cVDKUG96cf2C"
      },
      "execution_count": null,
      "outputs": []
    },
    {
      "cell_type": "code",
      "source": [
        "# using all submissions\n",
        "def generate_mega_prompt_all(df):\n",
        "  mega_df = pd.DataFrame(columns=['QuestionId', 'MegaPrompt'])\n",
        "\n",
        "  qids = df['QuestionId'].unique()\n",
        "\n",
        "  for id in qids:\n",
        "    temp = df[df['QuestionId']==id]\n",
        "    # making test size 1\n",
        "    # drop the question if it has only 1 record now\n",
        "    if len(temp)<=1:\n",
        "      continue;\n",
        "    train_df, test_df = train_test_split(temp, test_size=1, random_state=1234)\n",
        "    train_df = train_df.reset_index()\n",
        "    test_df = test_df.reset_index()\n",
        "\n",
        "    submissions = \"\"\n",
        "    for i,row in train_df.iterrows():\n",
        "      submission = row['InputUserAnswer']\n",
        "      grade = row['Score']\n",
        "      full_grade = row['full_score']\n",
        "      feedback = row['feedback']\n",
        "      submissions += f'e{i}. submission: {submission}, grade: {grade}/{full_grade}, feedback: {feedback} \\n\\n'\n",
        "\n",
        "    # print(submissions)\n",
        "    db = train_df.loc[0,'Database']\n",
        "    tables = train_df.loc[0,'schema']\n",
        "    question = train_df.loc[0,'Question']\n",
        "    key = train_df.loc[0,'AnswerKey']\n",
        "\n",
        "    test = test_df.loc[0,'InputUserAnswer']\n",
        "\n",
        "    mega_p = f'''\n",
        "      a. We are working with the {db} database, which has the following tables: {tables}\n",
        "\n",
        "      b. The request to the student is \"{question}\"\n",
        "\n",
        "      c. The model answer is {key} (note that we may have multiple correct answers, the model answer is just an example)\n",
        "\n",
        "      d. The student answer was {test}\n",
        "\n",
        "      e. Previously, students have submitted these answers and got back these responses and grades: \\n{submissions}\n",
        "\n",
        "      Please provide a grade and feedback for the student\n",
        "      '''\n",
        "    new_row = {'QuestionId': id, 'MegaPrompt': mega_p}\n",
        "\n",
        "    mega_df = mega_df.append(new_row, ignore_index=True)\n",
        "  return mega_df"
      ],
      "metadata": {
        "id": "X8rmqA_MW3rp"
      },
      "execution_count": null,
      "outputs": []
    },
    {
      "cell_type": "code",
      "source": [
        "# for all questions each with all submissions => new df\n",
        "mega_df_all = generate_mega_prompt_all(data)\n",
        "mega_df_all.head()"
      ],
      "metadata": {
        "id": "0-_5Yo5xcf4J"
      },
      "execution_count": null,
      "outputs": []
    },
    {
      "cell_type": "code",
      "source": [
        "print(mega_df_all.loc[0, 'MegaPrompt'])"
      ],
      "metadata": {
        "id": "Xcq_a5aW615i"
      },
      "execution_count": null,
      "outputs": []
    },
    {
      "cell_type": "code",
      "source": [
        "# select a specific question and control submission size\n",
        "df = data[data['QuestionId']=='5,168,443']\n",
        "\n",
        "df0 = generate_mega_prompt(df, 0)\n",
        "df0.head()"
      ],
      "metadata": {
        "colab": {
          "base_uri": "https://localhost:8080/",
          "height": 116
        },
        "id": "W_jNNYgi618-",
        "outputId": "629967d9-c5ec-4f64-eca3-21ddc569467a"
      },
      "execution_count": null,
      "outputs": [
        {
          "output_type": "stream",
          "name": "stderr",
          "text": [
            "<ipython-input-18-d78b26898815>:47: FutureWarning: The frame.append method is deprecated and will be removed from pandas in a future version. Use pandas.concat instead.\n",
            "  mega_df = mega_df.append(new_row, ignore_index=True)\n"
          ]
        },
        {
          "output_type": "execute_result",
          "data": {
            "text/plain": [
              "  QuestionId                                         MegaPrompt\n",
              "0  5,168,443  \\n      a. We are working with the flights dat..."
            ],
            "text/html": [
              "\n",
              "  <div id=\"df-486e1d6e-1783-40a9-a460-e7adbe101a24\">\n",
              "    <div class=\"colab-df-container\">\n",
              "      <div>\n",
              "<style scoped>\n",
              "    .dataframe tbody tr th:only-of-type {\n",
              "        vertical-align: middle;\n",
              "    }\n",
              "\n",
              "    .dataframe tbody tr th {\n",
              "        vertical-align: top;\n",
              "    }\n",
              "\n",
              "    .dataframe thead th {\n",
              "        text-align: right;\n",
              "    }\n",
              "</style>\n",
              "<table border=\"1\" class=\"dataframe\">\n",
              "  <thead>\n",
              "    <tr style=\"text-align: right;\">\n",
              "      <th></th>\n",
              "      <th>QuestionId</th>\n",
              "      <th>MegaPrompt</th>\n",
              "    </tr>\n",
              "  </thead>\n",
              "  <tbody>\n",
              "    <tr>\n",
              "      <th>0</th>\n",
              "      <td>5,168,443</td>\n",
              "      <td>\\n      a. We are working with the flights dat...</td>\n",
              "    </tr>\n",
              "  </tbody>\n",
              "</table>\n",
              "</div>\n",
              "      <button class=\"colab-df-convert\" onclick=\"convertToInteractive('df-486e1d6e-1783-40a9-a460-e7adbe101a24')\"\n",
              "              title=\"Convert this dataframe to an interactive table.\"\n",
              "              style=\"display:none;\">\n",
              "        \n",
              "  <svg xmlns=\"http://www.w3.org/2000/svg\" height=\"24px\"viewBox=\"0 0 24 24\"\n",
              "       width=\"24px\">\n",
              "    <path d=\"M0 0h24v24H0V0z\" fill=\"none\"/>\n",
              "    <path d=\"M18.56 5.44l.94 2.06.94-2.06 2.06-.94-2.06-.94-.94-2.06-.94 2.06-2.06.94zm-11 1L8.5 8.5l.94-2.06 2.06-.94-2.06-.94L8.5 2.5l-.94 2.06-2.06.94zm10 10l.94 2.06.94-2.06 2.06-.94-2.06-.94-.94-2.06-.94 2.06-2.06.94z\"/><path d=\"M17.41 7.96l-1.37-1.37c-.4-.4-.92-.59-1.43-.59-.52 0-1.04.2-1.43.59L10.3 9.45l-7.72 7.72c-.78.78-.78 2.05 0 2.83L4 21.41c.39.39.9.59 1.41.59.51 0 1.02-.2 1.41-.59l7.78-7.78 2.81-2.81c.8-.78.8-2.07 0-2.86zM5.41 20L4 18.59l7.72-7.72 1.47 1.35L5.41 20z\"/>\n",
              "  </svg>\n",
              "      </button>\n",
              "      \n",
              "  <style>\n",
              "    .colab-df-container {\n",
              "      display:flex;\n",
              "      flex-wrap:wrap;\n",
              "      gap: 12px;\n",
              "    }\n",
              "\n",
              "    .colab-df-convert {\n",
              "      background-color: #E8F0FE;\n",
              "      border: none;\n",
              "      border-radius: 50%;\n",
              "      cursor: pointer;\n",
              "      display: none;\n",
              "      fill: #1967D2;\n",
              "      height: 32px;\n",
              "      padding: 0 0 0 0;\n",
              "      width: 32px;\n",
              "    }\n",
              "\n",
              "    .colab-df-convert:hover {\n",
              "      background-color: #E2EBFA;\n",
              "      box-shadow: 0px 1px 2px rgba(60, 64, 67, 0.3), 0px 1px 3px 1px rgba(60, 64, 67, 0.15);\n",
              "      fill: #174EA6;\n",
              "    }\n",
              "\n",
              "    [theme=dark] .colab-df-convert {\n",
              "      background-color: #3B4455;\n",
              "      fill: #D2E3FC;\n",
              "    }\n",
              "\n",
              "    [theme=dark] .colab-df-convert:hover {\n",
              "      background-color: #434B5C;\n",
              "      box-shadow: 0px 1px 3px 1px rgba(0, 0, 0, 0.15);\n",
              "      filter: drop-shadow(0px 1px 2px rgba(0, 0, 0, 0.3));\n",
              "      fill: #FFFFFF;\n",
              "    }\n",
              "  </style>\n",
              "\n",
              "      <script>\n",
              "        const buttonEl =\n",
              "          document.querySelector('#df-486e1d6e-1783-40a9-a460-e7adbe101a24 button.colab-df-convert');\n",
              "        buttonEl.style.display =\n",
              "          google.colab.kernel.accessAllowed ? 'block' : 'none';\n",
              "\n",
              "        async function convertToInteractive(key) {\n",
              "          const element = document.querySelector('#df-486e1d6e-1783-40a9-a460-e7adbe101a24');\n",
              "          const dataTable =\n",
              "            await google.colab.kernel.invokeFunction('convertToInteractive',\n",
              "                                                     [key], {});\n",
              "          if (!dataTable) return;\n",
              "\n",
              "          const docLinkHtml = 'Like what you see? Visit the ' +\n",
              "            '<a target=\"_blank\" href=https://colab.research.google.com/notebooks/data_table.ipynb>data table notebook</a>'\n",
              "            + ' to learn more about interactive tables.';\n",
              "          element.innerHTML = '';\n",
              "          dataTable['output_type'] = 'display_data';\n",
              "          await google.colab.output.renderOutput(dataTable, element);\n",
              "          const docLink = document.createElement('div');\n",
              "          docLink.innerHTML = docLinkHtml;\n",
              "          element.appendChild(docLink);\n",
              "        }\n",
              "      </script>\n",
              "    </div>\n",
              "  </div>\n",
              "  "
            ]
          },
          "metadata": {},
          "execution_count": 22
        }
      ]
    },
    {
      "cell_type": "code",
      "source": [
        "df5 = generate_mega_prompt(df, 5)\n",
        "df10 = generate_mega_prompt(df, 10)\n",
        "df20 = generate_mega_prompt(df, 20)\n",
        "df_all = generate_mega_prompt(df, len(df))"
      ],
      "metadata": {
        "colab": {
          "base_uri": "https://localhost:8080/"
        },
        "id": "ddURkonabgAC",
        "outputId": "54b787a3-f978-4e7c-9f6b-2ed0d2aaec16"
      },
      "execution_count": null,
      "outputs": [
        {
          "output_type": "stream",
          "name": "stderr",
          "text": [
            "<ipython-input-18-d78b26898815>:47: FutureWarning: The frame.append method is deprecated and will be removed from pandas in a future version. Use pandas.concat instead.\n",
            "  mega_df = mega_df.append(new_row, ignore_index=True)\n",
            "<ipython-input-18-d78b26898815>:47: FutureWarning: The frame.append method is deprecated and will be removed from pandas in a future version. Use pandas.concat instead.\n",
            "  mega_df = mega_df.append(new_row, ignore_index=True)\n",
            "<ipython-input-18-d78b26898815>:47: FutureWarning: The frame.append method is deprecated and will be removed from pandas in a future version. Use pandas.concat instead.\n",
            "  mega_df = mega_df.append(new_row, ignore_index=True)\n",
            "<ipython-input-18-d78b26898815>:47: FutureWarning: The frame.append method is deprecated and will be removed from pandas in a future version. Use pandas.concat instead.\n",
            "  mega_df = mega_df.append(new_row, ignore_index=True)\n"
          ]
        }
      ]
    },
    {
      "cell_type": "code",
      "source": [],
      "metadata": {
        "id": "kr_KbhHubgIs"
      },
      "execution_count": null,
      "outputs": []
    },
    {
      "cell_type": "code",
      "source": [],
      "metadata": {
        "id": "_uBy2f95bgQI"
      },
      "execution_count": null,
      "outputs": []
    },
    {
      "cell_type": "markdown",
      "source": [
        "## GPT4"
      ],
      "metadata": {
        "id": "5Doc6Lv0co-8"
      }
    },
    {
      "cell_type": "code",
      "source": [],
      "metadata": {
        "id": "d76SJXJfdPKa"
      },
      "execution_count": null,
      "outputs": []
    },
    {
      "cell_type": "code",
      "source": [
        "def GPT4_generation(prompt):\n",
        "  response = openai.ChatCompletion.create(\n",
        "    model=\"gpt-4-32k\",\n",
        "    messages=[{\"role\": \"user\", \"content\": prompt}],\n",
        "    n = 1,\n",
        "    stream = False,\n",
        "    temperature=0.0,\n",
        "    max_tokens=600,\n",
        "    top_p = 1.0,\n",
        "    frequency_penalty=0.0,\n",
        "    presence_penalty=0.0\n",
        "    # stop = [\"Q:\"]\n",
        "  )\n",
        "  return response['choices'][0]['message']['content']"
      ],
      "metadata": {
        "id": "LWD3YE-sAnIK"
      },
      "execution_count": null,
      "outputs": []
    },
    {
      "cell_type": "code",
      "source": [
        "print(GPT4_generation(df0.loc[0,'MegaPrompt']))"
      ],
      "metadata": {
        "colab": {
          "base_uri": "https://localhost:8080/"
        },
        "id": "S5gy_zhlcfRa",
        "outputId": "42781247-69ce-4dd4-8035-8701c866fea4"
      },
      "execution_count": null,
      "outputs": [
        {
          "output_type": "stream",
          "name": "stdout",
          "text": [
            "Grade: 9/10\n",
            "\n",
            "Feedback: Your answer is almost perfect. You have correctly used the RANK() function to calculate the national and state rank. However, you have used 'total_airport_passengers' instead of 'total_passengers' as in the model answer. Please make sure to use the correct column names. Otherwise, your SQL syntax and join operation are correct. Good job!\n"
          ]
        }
      ]
    },
    {
      "cell_type": "code",
      "source": [
        "print(GPT4_generation(df5.loc[0,'MegaPrompt']))"
      ],
      "metadata": {
        "colab": {
          "base_uri": "https://localhost:8080/"
        },
        "id": "x0tRG8lnfxnt",
        "outputId": "6206d1cb-a4b5-4789-d96d-f92716b92caa"
      },
      "execution_count": null,
      "outputs": [
        {
          "output_type": "stream",
          "name": "stdout",
          "text": [
            "The student's answer is correct. They have correctly used the RANK() function to calculate the national and state ranks based on the total number of passengers. They have also correctly joined the m_airports table to get the state of each airport. \n",
            "\n",
            "Grade: 4.0/4.0\n",
            "\n",
            "Feedback: Great job! You have correctly used the RANK() function to calculate the national and state ranks. Your join operation is also correct. Keep up the good work!\n"
          ]
        }
      ]
    },
    {
      "cell_type": "code",
      "source": [
        "print(GPT4_generation(df10.loc[0,'MegaPrompt']))"
      ],
      "metadata": {
        "colab": {
          "base_uri": "https://localhost:8080/"
        },
        "id": "lKcB4Zdm_MQ1",
        "outputId": "f35d40a7-df89-4f53-8b2f-13c5b354fc42"
      },
      "execution_count": null,
      "outputs": [
        {
          "output_type": "stream",
          "name": "stdout",
          "text": [
            "Grade: 4.0/4.0\n",
            "\n",
            "Feedback: Your answer is correct. You have successfully used the RANK() function to calculate the national and state rank of each airport based on the number of departing passengers. Your join operation is also correct, linking the 'origin' field in the 'passengers_per_airport' table with the 'airport' field in the 'm_airports' table. Good job!\n"
          ]
        }
      ]
    },
    {
      "cell_type": "code",
      "source": [
        "print(GPT4_generation(df20.loc[0,'MegaPrompt']))"
      ],
      "metadata": {
        "colab": {
          "base_uri": "https://localhost:8080/"
        },
        "id": "Wjp4NLtn_MbC",
        "outputId": "7b757d2a-39d2-4afd-fc43-a21a6249ddb9"
      },
      "execution_count": null,
      "outputs": [
        {
          "output_type": "stream",
          "name": "stdout",
          "text": [
            "The student's answer is correct. They have correctly used the RANK() function to calculate the national and state rank of each airport based on the number of departing passengers. They have also correctly joined the m_airports table to get the state of each airport. \n",
            "\n",
            "Grade: 4.0/4.0\n",
            "\n",
            "Feedback: Great job! You have correctly used the RANK() function and joined the necessary tables to get the desired output. Keep up the good work!\n"
          ]
        }
      ]
    },
    {
      "cell_type": "code",
      "source": [
        "print(GPT4_generation(df_all.loc[0,'MegaPrompt']))"
      ],
      "metadata": {
        "colab": {
          "base_uri": "https://localhost:8080/"
        },
        "id": "JQI2MfL2fxwy",
        "outputId": "29be1012-8baa-4a58-fbf8-35cc4e11ac6e"
      },
      "execution_count": null,
      "outputs": [
        {
          "output_type": "stream",
          "name": "stdout",
          "text": [
            "The student's answer is correct. They have correctly used the RANK() function to calculate the national and state rank of each airport based on the number of departing passengers. They have also correctly joined the passengers_per_airport and m_airports tables on the 'origin' and 'airport' columns respectively. \n",
            "\n",
            "Grade: 4.0/4.0\n",
            "\n",
            "Feedback: Great job! You have correctly used the RANK() function to calculate the national and state rank of each airport based on the number of departing passengers. Your join operation is also correct. Keep up the good work!\n"
          ]
        }
      ]
    },
    {
      "cell_type": "code",
      "source": [
        "def test_shots(qid, n):\n",
        "  df = data[data['QuestionId']==qid]\n",
        "  df_n = generate_mega_prompt(df, n)\n",
        "  # df_n.head()\n",
        "  print(f'{n} submissions:')\n",
        "  print(GPT4_generation(df_n.loc[0,'MegaPrompt']))\n"
      ],
      "metadata": {
        "id": "F9CittlfJL5A"
      },
      "execution_count": null,
      "outputs": []
    },
    {
      "cell_type": "code",
      "source": [
        "for i in range(0, 21, 5):\n",
        "  test_shots('5,168,443', i)"
      ],
      "metadata": {
        "colab": {
          "base_uri": "https://localhost:8080/"
        },
        "id": "O_R05vvSKe37",
        "outputId": "02936608-39ed-4e2f-cfcd-7ac1c0b45474"
      },
      "execution_count": null,
      "outputs": [
        {
          "output_type": "stream",
          "name": "stderr",
          "text": [
            "<ipython-input-18-d78b26898815>:47: FutureWarning: The frame.append method is deprecated and will be removed from pandas in a future version. Use pandas.concat instead.\n",
            "  mega_df = mega_df.append(new_row, ignore_index=True)\n"
          ]
        },
        {
          "output_type": "stream",
          "name": "stdout",
          "text": [
            "0 submissions:\n",
            "The student's answer is correct. The student correctly used the RANK() function to calculate the national and state ranks. The student also correctly joined the passengers_per_airport and m_airports tables on the airport column. The only difference between the student's answer and the model answer is the naming of the columns, but this does not affect the correctness of the answer. \n",
            "\n",
            "Grade: 10/10\n",
            "\n",
            "Feedback: Great job! You correctly used the RANK() function and joined the tables correctly. Keep up the good work!\n",
            "5 submissions:\n"
          ]
        },
        {
          "output_type": "stream",
          "name": "stderr",
          "text": [
            "<ipython-input-18-d78b26898815>:47: FutureWarning: The frame.append method is deprecated and will be removed from pandas in a future version. Use pandas.concat instead.\n",
            "  mega_df = mega_df.append(new_row, ignore_index=True)\n"
          ]
        },
        {
          "output_type": "stream",
          "name": "stdout",
          "text": [
            "The student's answer is correct. They have correctly used the RANK() function to calculate the national and state ranks based on the total number of passengers. They have also correctly joined the m_airports table to get the state of each airport. \n",
            "\n",
            "Grade: 4.0/4.0\n",
            "\n",
            "Feedback: Great job! You have correctly used the RANK() function to calculate the national and state ranks. Your join operation is also correct. Keep up the good work!\n",
            "10 submissions:\n"
          ]
        },
        {
          "output_type": "stream",
          "name": "stderr",
          "text": [
            "<ipython-input-18-d78b26898815>:47: FutureWarning: The frame.append method is deprecated and will be removed from pandas in a future version. Use pandas.concat instead.\n",
            "  mega_df = mega_df.append(new_row, ignore_index=True)\n"
          ]
        },
        {
          "output_type": "stream",
          "name": "stdout",
          "text": [
            "The student's answer is correct. They have correctly used the RANK() function to calculate the national and state rank of each airport based on the number of departing passengers. They have also correctly joined the passengers_per_airport and m_airports tables on the airport column. \n",
            "\n",
            "Grade: 4.0/4.0\n",
            "\n",
            "Feedback: Great job! You have correctly used the RANK() function and joined the tables correctly. Keep up the good work!\n",
            "15 submissions:\n"
          ]
        },
        {
          "output_type": "stream",
          "name": "stderr",
          "text": [
            "<ipython-input-18-d78b26898815>:47: FutureWarning: The frame.append method is deprecated and will be removed from pandas in a future version. Use pandas.concat instead.\n",
            "  mega_df = mega_df.append(new_row, ignore_index=True)\n"
          ]
        },
        {
          "output_type": "stream",
          "name": "stdout",
          "text": [
            "Grade: 4.0/4.0\n",
            "\n",
            "Feedback: Your SQL query is correct. You have successfully calculated the national and state rank for each airport based on the number of departing passengers. Good job on using the RANK() function and joining the tables correctly. Keep up the good work!\n",
            "20 submissions:\n"
          ]
        },
        {
          "output_type": "stream",
          "name": "stderr",
          "text": [
            "<ipython-input-18-d78b26898815>:47: FutureWarning: The frame.append method is deprecated and will be removed from pandas in a future version. Use pandas.concat instead.\n",
            "  mega_df = mega_df.append(new_row, ignore_index=True)\n"
          ]
        },
        {
          "output_type": "stream",
          "name": "stdout",
          "text": [
            "The student's answer is correct. They have correctly used the RANK() function to calculate the national and state rank of each airport based on the number of departing passengers. They have also correctly joined the m_airports table to get the state of each airport. \n",
            "\n",
            "Grade: 4.0/4.0\n",
            "\n",
            "Feedback: Great job! You have correctly used the RANK() function and joined the necessary tables to get the desired output. Keep up the good work!\n"
          ]
        }
      ]
    },
    {
      "cell_type": "code",
      "source": [
        "mega_df_all.shape\n",
        "mega_df_all.head(20)"
      ],
      "metadata": {
        "colab": {
          "base_uri": "https://localhost:8080/",
          "height": 676
        },
        "id": "62Q3jcByHJJR",
        "outputId": "117db27a-858a-4f90-8415-09fbf7a6a966"
      },
      "execution_count": null,
      "outputs": [
        {
          "output_type": "execute_result",
          "data": {
            "text/plain": [
              "   QuestionId                                         MegaPrompt\n",
              "0   4,969,729  \\n      a. We are working with the ['northwind...\n",
              "1   4,969,713  \\n      a. We are working with the ['northwind...\n",
              "2   4,969,711  \\n      a. We are working with the ['northwind...\n",
              "3   4,969,710  \\n      a. We are working with the ['northwind...\n",
              "4   4,969,709  \\n      a. We are working with the ['northwind...\n",
              "5   4,969,708  \\n      a. We are working with the ['northwind...\n",
              "6   4,969,707  \\n      a. We are working with the ['northwind...\n",
              "7   4,969,706  \\n      a. We are working with the ['northwind...\n",
              "8   4,969,705  \\n      a. We are working with the ['northwind...\n",
              "9   5,119,646  \\n      a. We are working with the music datab...\n",
              "10  4,969,714  \\n      a. We are working with the ['northwind...\n",
              "11  4,956,678  \\n      a. We are working with the ['northwind...\n",
              "12  4,956,293  \\n      a. We are working with the ['northwind...\n",
              "13  4,338,658  \\n      a. We are working with the ['northwind...\n",
              "14  5,168,443  \\n      a. We are working with the flights dat...\n",
              "15  5,168,442  \\n      a. We are working with the flights dat...\n",
              "16  5,168,441  \\n      a. We are working with the flights dat...\n",
              "17  5,168,440  \\n      a. We are working with the flights dat...\n",
              "18  5,168,439  \\n      a. We are working with the flights dat...\n",
              "19  5,168,438  \\n      a. We are working with the flights dat..."
            ],
            "text/html": [
              "\n",
              "  <div id=\"df-169c069c-6f9d-4e80-8f17-dd33ea559971\">\n",
              "    <div class=\"colab-df-container\">\n",
              "      <div>\n",
              "<style scoped>\n",
              "    .dataframe tbody tr th:only-of-type {\n",
              "        vertical-align: middle;\n",
              "    }\n",
              "\n",
              "    .dataframe tbody tr th {\n",
              "        vertical-align: top;\n",
              "    }\n",
              "\n",
              "    .dataframe thead th {\n",
              "        text-align: right;\n",
              "    }\n",
              "</style>\n",
              "<table border=\"1\" class=\"dataframe\">\n",
              "  <thead>\n",
              "    <tr style=\"text-align: right;\">\n",
              "      <th></th>\n",
              "      <th>QuestionId</th>\n",
              "      <th>MegaPrompt</th>\n",
              "    </tr>\n",
              "  </thead>\n",
              "  <tbody>\n",
              "    <tr>\n",
              "      <th>0</th>\n",
              "      <td>4,969,729</td>\n",
              "      <td>\\n      a. We are working with the ['northwind...</td>\n",
              "    </tr>\n",
              "    <tr>\n",
              "      <th>1</th>\n",
              "      <td>4,969,713</td>\n",
              "      <td>\\n      a. We are working with the ['northwind...</td>\n",
              "    </tr>\n",
              "    <tr>\n",
              "      <th>2</th>\n",
              "      <td>4,969,711</td>\n",
              "      <td>\\n      a. We are working with the ['northwind...</td>\n",
              "    </tr>\n",
              "    <tr>\n",
              "      <th>3</th>\n",
              "      <td>4,969,710</td>\n",
              "      <td>\\n      a. We are working with the ['northwind...</td>\n",
              "    </tr>\n",
              "    <tr>\n",
              "      <th>4</th>\n",
              "      <td>4,969,709</td>\n",
              "      <td>\\n      a. We are working with the ['northwind...</td>\n",
              "    </tr>\n",
              "    <tr>\n",
              "      <th>5</th>\n",
              "      <td>4,969,708</td>\n",
              "      <td>\\n      a. We are working with the ['northwind...</td>\n",
              "    </tr>\n",
              "    <tr>\n",
              "      <th>6</th>\n",
              "      <td>4,969,707</td>\n",
              "      <td>\\n      a. We are working with the ['northwind...</td>\n",
              "    </tr>\n",
              "    <tr>\n",
              "      <th>7</th>\n",
              "      <td>4,969,706</td>\n",
              "      <td>\\n      a. We are working with the ['northwind...</td>\n",
              "    </tr>\n",
              "    <tr>\n",
              "      <th>8</th>\n",
              "      <td>4,969,705</td>\n",
              "      <td>\\n      a. We are working with the ['northwind...</td>\n",
              "    </tr>\n",
              "    <tr>\n",
              "      <th>9</th>\n",
              "      <td>5,119,646</td>\n",
              "      <td>\\n      a. We are working with the music datab...</td>\n",
              "    </tr>\n",
              "    <tr>\n",
              "      <th>10</th>\n",
              "      <td>4,969,714</td>\n",
              "      <td>\\n      a. We are working with the ['northwind...</td>\n",
              "    </tr>\n",
              "    <tr>\n",
              "      <th>11</th>\n",
              "      <td>4,956,678</td>\n",
              "      <td>\\n      a. We are working with the ['northwind...</td>\n",
              "    </tr>\n",
              "    <tr>\n",
              "      <th>12</th>\n",
              "      <td>4,956,293</td>\n",
              "      <td>\\n      a. We are working with the ['northwind...</td>\n",
              "    </tr>\n",
              "    <tr>\n",
              "      <th>13</th>\n",
              "      <td>4,338,658</td>\n",
              "      <td>\\n      a. We are working with the ['northwind...</td>\n",
              "    </tr>\n",
              "    <tr>\n",
              "      <th>14</th>\n",
              "      <td>5,168,443</td>\n",
              "      <td>\\n      a. We are working with the flights dat...</td>\n",
              "    </tr>\n",
              "    <tr>\n",
              "      <th>15</th>\n",
              "      <td>5,168,442</td>\n",
              "      <td>\\n      a. We are working with the flights dat...</td>\n",
              "    </tr>\n",
              "    <tr>\n",
              "      <th>16</th>\n",
              "      <td>5,168,441</td>\n",
              "      <td>\\n      a. We are working with the flights dat...</td>\n",
              "    </tr>\n",
              "    <tr>\n",
              "      <th>17</th>\n",
              "      <td>5,168,440</td>\n",
              "      <td>\\n      a. We are working with the flights dat...</td>\n",
              "    </tr>\n",
              "    <tr>\n",
              "      <th>18</th>\n",
              "      <td>5,168,439</td>\n",
              "      <td>\\n      a. We are working with the flights dat...</td>\n",
              "    </tr>\n",
              "    <tr>\n",
              "      <th>19</th>\n",
              "      <td>5,168,438</td>\n",
              "      <td>\\n      a. We are working with the flights dat...</td>\n",
              "    </tr>\n",
              "  </tbody>\n",
              "</table>\n",
              "</div>\n",
              "      <button class=\"colab-df-convert\" onclick=\"convertToInteractive('df-169c069c-6f9d-4e80-8f17-dd33ea559971')\"\n",
              "              title=\"Convert this dataframe to an interactive table.\"\n",
              "              style=\"display:none;\">\n",
              "        \n",
              "  <svg xmlns=\"http://www.w3.org/2000/svg\" height=\"24px\"viewBox=\"0 0 24 24\"\n",
              "       width=\"24px\">\n",
              "    <path d=\"M0 0h24v24H0V0z\" fill=\"none\"/>\n",
              "    <path d=\"M18.56 5.44l.94 2.06.94-2.06 2.06-.94-2.06-.94-.94-2.06-.94 2.06-2.06.94zm-11 1L8.5 8.5l.94-2.06 2.06-.94-2.06-.94L8.5 2.5l-.94 2.06-2.06.94zm10 10l.94 2.06.94-2.06 2.06-.94-2.06-.94-.94-2.06-.94 2.06-2.06.94z\"/><path d=\"M17.41 7.96l-1.37-1.37c-.4-.4-.92-.59-1.43-.59-.52 0-1.04.2-1.43.59L10.3 9.45l-7.72 7.72c-.78.78-.78 2.05 0 2.83L4 21.41c.39.39.9.59 1.41.59.51 0 1.02-.2 1.41-.59l7.78-7.78 2.81-2.81c.8-.78.8-2.07 0-2.86zM5.41 20L4 18.59l7.72-7.72 1.47 1.35L5.41 20z\"/>\n",
              "  </svg>\n",
              "      </button>\n",
              "      \n",
              "  <style>\n",
              "    .colab-df-container {\n",
              "      display:flex;\n",
              "      flex-wrap:wrap;\n",
              "      gap: 12px;\n",
              "    }\n",
              "\n",
              "    .colab-df-convert {\n",
              "      background-color: #E8F0FE;\n",
              "      border: none;\n",
              "      border-radius: 50%;\n",
              "      cursor: pointer;\n",
              "      display: none;\n",
              "      fill: #1967D2;\n",
              "      height: 32px;\n",
              "      padding: 0 0 0 0;\n",
              "      width: 32px;\n",
              "    }\n",
              "\n",
              "    .colab-df-convert:hover {\n",
              "      background-color: #E2EBFA;\n",
              "      box-shadow: 0px 1px 2px rgba(60, 64, 67, 0.3), 0px 1px 3px 1px rgba(60, 64, 67, 0.15);\n",
              "      fill: #174EA6;\n",
              "    }\n",
              "\n",
              "    [theme=dark] .colab-df-convert {\n",
              "      background-color: #3B4455;\n",
              "      fill: #D2E3FC;\n",
              "    }\n",
              "\n",
              "    [theme=dark] .colab-df-convert:hover {\n",
              "      background-color: #434B5C;\n",
              "      box-shadow: 0px 1px 3px 1px rgba(0, 0, 0, 0.15);\n",
              "      filter: drop-shadow(0px 1px 2px rgba(0, 0, 0, 0.3));\n",
              "      fill: #FFFFFF;\n",
              "    }\n",
              "  </style>\n",
              "\n",
              "      <script>\n",
              "        const buttonEl =\n",
              "          document.querySelector('#df-169c069c-6f9d-4e80-8f17-dd33ea559971 button.colab-df-convert');\n",
              "        buttonEl.style.display =\n",
              "          google.colab.kernel.accessAllowed ? 'block' : 'none';\n",
              "\n",
              "        async function convertToInteractive(key) {\n",
              "          const element = document.querySelector('#df-169c069c-6f9d-4e80-8f17-dd33ea559971');\n",
              "          const dataTable =\n",
              "            await google.colab.kernel.invokeFunction('convertToInteractive',\n",
              "                                                     [key], {});\n",
              "          if (!dataTable) return;\n",
              "\n",
              "          const docLinkHtml = 'Like what you see? Visit the ' +\n",
              "            '<a target=\"_blank\" href=https://colab.research.google.com/notebooks/data_table.ipynb>data table notebook</a>'\n",
              "            + ' to learn more about interactive tables.';\n",
              "          element.innerHTML = '';\n",
              "          dataTable['output_type'] = 'display_data';\n",
              "          await google.colab.output.renderOutput(dataTable, element);\n",
              "          const docLink = document.createElement('div');\n",
              "          docLink.innerHTML = docLinkHtml;\n",
              "          element.appendChild(docLink);\n",
              "        }\n",
              "      </script>\n",
              "    </div>\n",
              "  </div>\n",
              "  "
            ]
          },
          "metadata": {},
          "execution_count": 37
        }
      ]
    },
    {
      "cell_type": "code",
      "source": [
        "mega_df_all.shape"
      ],
      "metadata": {
        "colab": {
          "base_uri": "https://localhost:8080/"
        },
        "id": "QAMfy4Xm69NJ",
        "outputId": "29b60983-0bcf-4ef0-c16a-f838576c3475"
      },
      "execution_count": null,
      "outputs": [
        {
          "output_type": "execute_result",
          "data": {
            "text/plain": [
              "(56, 2)"
            ]
          },
          "metadata": {},
          "execution_count": 51
        }
      ]
    },
    {
      "cell_type": "code",
      "source": [
        "from tqdm import tqdm"
      ],
      "metadata": {
        "id": "jM-mH10F7Fmy"
      },
      "execution_count": null,
      "outputs": []
    },
    {
      "cell_type": "code",
      "source": [
        "for i, p in tqdm(mega_df_all.iterrows()):\n",
        "  # print(i, len(p['MegaPrompt'].split()))\n",
        "  p['feedback'] = GPT4_generation(p['MegaPrompt'])\n",
        "\n",
        "mega_df_all.head()"
      ],
      "metadata": {
        "colab": {
          "base_uri": "https://localhost:8080/",
          "height": 224
        },
        "id": "kxuKag4IHgsH",
        "outputId": "afc088cb-6efa-4783-c13d-1cd82ceb454e"
      },
      "execution_count": null,
      "outputs": [
        {
          "output_type": "stream",
          "name": "stderr",
          "text": [
            "56it [04:14,  4.55s/it]\n"
          ]
        },
        {
          "output_type": "execute_result",
          "data": {
            "text/plain": [
              "  QuestionId                                         MegaPrompt\n",
              "0  4,969,729  \\n      a. We are working with the ['northwind...\n",
              "1  4,969,713  \\n      a. We are working with the ['northwind...\n",
              "2  4,969,711  \\n      a. We are working with the ['northwind...\n",
              "3  4,969,710  \\n      a. We are working with the ['northwind...\n",
              "4  4,969,709  \\n      a. We are working with the ['northwind..."
            ],
            "text/html": [
              "\n",
              "  <div id=\"df-cbb4673f-068e-4cfb-b469-3f1dd25f4102\">\n",
              "    <div class=\"colab-df-container\">\n",
              "      <div>\n",
              "<style scoped>\n",
              "    .dataframe tbody tr th:only-of-type {\n",
              "        vertical-align: middle;\n",
              "    }\n",
              "\n",
              "    .dataframe tbody tr th {\n",
              "        vertical-align: top;\n",
              "    }\n",
              "\n",
              "    .dataframe thead th {\n",
              "        text-align: right;\n",
              "    }\n",
              "</style>\n",
              "<table border=\"1\" class=\"dataframe\">\n",
              "  <thead>\n",
              "    <tr style=\"text-align: right;\">\n",
              "      <th></th>\n",
              "      <th>QuestionId</th>\n",
              "      <th>MegaPrompt</th>\n",
              "    </tr>\n",
              "  </thead>\n",
              "  <tbody>\n",
              "    <tr>\n",
              "      <th>0</th>\n",
              "      <td>4,969,729</td>\n",
              "      <td>\\n      a. We are working with the ['northwind...</td>\n",
              "    </tr>\n",
              "    <tr>\n",
              "      <th>1</th>\n",
              "      <td>4,969,713</td>\n",
              "      <td>\\n      a. We are working with the ['northwind...</td>\n",
              "    </tr>\n",
              "    <tr>\n",
              "      <th>2</th>\n",
              "      <td>4,969,711</td>\n",
              "      <td>\\n      a. We are working with the ['northwind...</td>\n",
              "    </tr>\n",
              "    <tr>\n",
              "      <th>3</th>\n",
              "      <td>4,969,710</td>\n",
              "      <td>\\n      a. We are working with the ['northwind...</td>\n",
              "    </tr>\n",
              "    <tr>\n",
              "      <th>4</th>\n",
              "      <td>4,969,709</td>\n",
              "      <td>\\n      a. We are working with the ['northwind...</td>\n",
              "    </tr>\n",
              "  </tbody>\n",
              "</table>\n",
              "</div>\n",
              "      <button class=\"colab-df-convert\" onclick=\"convertToInteractive('df-cbb4673f-068e-4cfb-b469-3f1dd25f4102')\"\n",
              "              title=\"Convert this dataframe to an interactive table.\"\n",
              "              style=\"display:none;\">\n",
              "        \n",
              "  <svg xmlns=\"http://www.w3.org/2000/svg\" height=\"24px\"viewBox=\"0 0 24 24\"\n",
              "       width=\"24px\">\n",
              "    <path d=\"M0 0h24v24H0V0z\" fill=\"none\"/>\n",
              "    <path d=\"M18.56 5.44l.94 2.06.94-2.06 2.06-.94-2.06-.94-.94-2.06-.94 2.06-2.06.94zm-11 1L8.5 8.5l.94-2.06 2.06-.94-2.06-.94L8.5 2.5l-.94 2.06-2.06.94zm10 10l.94 2.06.94-2.06 2.06-.94-2.06-.94-.94-2.06-.94 2.06-2.06.94z\"/><path d=\"M17.41 7.96l-1.37-1.37c-.4-.4-.92-.59-1.43-.59-.52 0-1.04.2-1.43.59L10.3 9.45l-7.72 7.72c-.78.78-.78 2.05 0 2.83L4 21.41c.39.39.9.59 1.41.59.51 0 1.02-.2 1.41-.59l7.78-7.78 2.81-2.81c.8-.78.8-2.07 0-2.86zM5.41 20L4 18.59l7.72-7.72 1.47 1.35L5.41 20z\"/>\n",
              "  </svg>\n",
              "      </button>\n",
              "      \n",
              "  <style>\n",
              "    .colab-df-container {\n",
              "      display:flex;\n",
              "      flex-wrap:wrap;\n",
              "      gap: 12px;\n",
              "    }\n",
              "\n",
              "    .colab-df-convert {\n",
              "      background-color: #E8F0FE;\n",
              "      border: none;\n",
              "      border-radius: 50%;\n",
              "      cursor: pointer;\n",
              "      display: none;\n",
              "      fill: #1967D2;\n",
              "      height: 32px;\n",
              "      padding: 0 0 0 0;\n",
              "      width: 32px;\n",
              "    }\n",
              "\n",
              "    .colab-df-convert:hover {\n",
              "      background-color: #E2EBFA;\n",
              "      box-shadow: 0px 1px 2px rgba(60, 64, 67, 0.3), 0px 1px 3px 1px rgba(60, 64, 67, 0.15);\n",
              "      fill: #174EA6;\n",
              "    }\n",
              "\n",
              "    [theme=dark] .colab-df-convert {\n",
              "      background-color: #3B4455;\n",
              "      fill: #D2E3FC;\n",
              "    }\n",
              "\n",
              "    [theme=dark] .colab-df-convert:hover {\n",
              "      background-color: #434B5C;\n",
              "      box-shadow: 0px 1px 3px 1px rgba(0, 0, 0, 0.15);\n",
              "      filter: drop-shadow(0px 1px 2px rgba(0, 0, 0, 0.3));\n",
              "      fill: #FFFFFF;\n",
              "    }\n",
              "  </style>\n",
              "\n",
              "      <script>\n",
              "        const buttonEl =\n",
              "          document.querySelector('#df-cbb4673f-068e-4cfb-b469-3f1dd25f4102 button.colab-df-convert');\n",
              "        buttonEl.style.display =\n",
              "          google.colab.kernel.accessAllowed ? 'block' : 'none';\n",
              "\n",
              "        async function convertToInteractive(key) {\n",
              "          const element = document.querySelector('#df-cbb4673f-068e-4cfb-b469-3f1dd25f4102');\n",
              "          const dataTable =\n",
              "            await google.colab.kernel.invokeFunction('convertToInteractive',\n",
              "                                                     [key], {});\n",
              "          if (!dataTable) return;\n",
              "\n",
              "          const docLinkHtml = 'Like what you see? Visit the ' +\n",
              "            '<a target=\"_blank\" href=https://colab.research.google.com/notebooks/data_table.ipynb>data table notebook</a>'\n",
              "            + ' to learn more about interactive tables.';\n",
              "          element.innerHTML = '';\n",
              "          dataTable['output_type'] = 'display_data';\n",
              "          await google.colab.output.renderOutput(dataTable, element);\n",
              "          const docLink = document.createElement('div');\n",
              "          docLink.innerHTML = docLinkHtml;\n",
              "          element.appendChild(docLink);\n",
              "        }\n",
              "      </script>\n",
              "    </div>\n",
              "  </div>\n",
              "  "
            ]
          },
          "metadata": {},
          "execution_count": 54
        }
      ]
    },
    {
      "cell_type": "code",
      "source": [
        "mega_df_all['feedback'] = mega_df_all['MegaPrompt'].apply(GPT4_generation)\n",
        "mega_df_all.head()"
      ],
      "metadata": {
        "id": "UxYM0VDu87bx"
      },
      "execution_count": null,
      "outputs": []
    },
    {
      "cell_type": "code",
      "source": [],
      "metadata": {
        "id": "RRYWmXy2cf9X"
      },
      "execution_count": null,
      "outputs": []
    },
    {
      "cell_type": "code",
      "source": [],
      "metadata": {
        "id": "ur0jal2dcgAJ"
      },
      "execution_count": null,
      "outputs": []
    }
  ]
}